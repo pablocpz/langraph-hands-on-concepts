{
 "cells": [
  {
   "cell_type": "markdown",
   "metadata": {},
   "source": [
    "## Human in the loop interactions"
   ]
  },
  {
   "cell_type": "code",
   "execution_count": 2,
   "metadata": {},
   "outputs": [],
   "source": [
    "from dotenv import load_dotenv\n",
    "\n",
    "_ = load_dotenv()"
   ]
  },
  {
   "cell_type": "code",
   "execution_count": 3,
   "metadata": {},
   "outputs": [],
   "source": [
    "from langgraph.graph import StateGraph, END\n",
    "from typing import TypedDict, Annotated\n",
    "import operator\n",
    "from langchain_core.messages import AnyMessage, SystemMessage, HumanMessage, ToolMessage\n",
    "from langchain_openai import ChatOpenAI\n",
    "from langchain_community.tools.tavily_search import TavilySearchResults\n",
    "from langgraph.checkpoint.sqlite import SqliteSaver\n",
    "\n",
    "# memory = SqliteSaver.from_conn_string(\":memory:\")\n",
    "\n",
    "from contextlib import ExitStack\n",
    "\n",
    "stack = ExitStack()\n",
    "memory = stack.enter_context(SqliteSaver.from_conn_string(\":memory:\"))\n",
    "\n",
    "#our checkpointer for the agent graph memmory (persistence)"
   ]
  },
  {
   "cell_type": "code",
   "execution_count": 4,
   "metadata": {},
   "outputs": [],
   "source": [
    "from uuid import uuid4\n",
    "from langchain_core.messages import AnyMessage, SystemMessage, HumanMessage, AIMessage\n",
    "\n",
    "\"\"\"\n",
    "In previous examples we've annotated the `messages` state key\n",
    "with the default `operator.add` or `+` reducer, which always\n",
    "appends new messages to the end of the existing messages array.\n",
    "\n",
    "Now, to support replacing existing messages, we annotate the\n",
    "`messages` key with a customer reducer function, which replaces\n",
    "messages with the same `id`, and appends them otherwise.\n",
    "\"\"\"\n",
    "def reduce_messages(left: list[AnyMessage], right: list[AnyMessage]) -> list[AnyMessage]:\n",
    "    # assign ids to messages that don't have them\n",
    "    for message in right:\n",
    "        if not message.id:\n",
    "            message.id = str(uuid4())\n",
    "    # merge the new messages with the existing messages\n",
    "    merged = left.copy()\n",
    "    for message in right:\n",
    "        for i, existing in enumerate(merged):\n",
    "            # replace any existing messages with the same id\n",
    "            if existing.id == message.id:\n",
    "                merged[i] = message\n",
    "                break\n",
    "        else:\n",
    "            # append any new messages to the end\n",
    "            merged.append(message)\n",
    "    return merged\n",
    "\n",
    "class AgentState(TypedDict):\n",
    "    messages: Annotated[list[AnyMessage], reduce_messages] #instead of operator.add"
   ]
  },
  {
   "cell_type": "code",
   "execution_count": 5,
   "metadata": {},
   "outputs": [],
   "source": [
    "tool = TavilySearchResults(max_results=2)"
   ]
  },
  {
   "cell_type": "markdown",
   "metadata": {},
   "source": [
    "### Adding interrupt for human approval between node calls"
   ]
  },
  {
   "cell_type": "markdown",
   "metadata": {},
   "source": [
    "In order to add manual human approval, we'll just add the `interrupt_before=[\"action\"]` parameter inside the graph.compile()\n",
    "\n",
    "- This means that the agent graph will stop running in any moment it gets to do an **action** (e.g tool call)\n",
    "\n",
    "- This is when, us, the humans, can decide whether letting the agent keeping the execution, or not"
   ]
  },
  {
   "cell_type": "code",
   "execution_count": 6,
   "metadata": {},
   "outputs": [],
   "source": [
    "class Agent:\n",
    "    def __init__(self, model, tools, system=\"\", checkpointer=None):\n",
    "        self.system = system\n",
    "        graph = StateGraph(AgentState)\n",
    "        graph.add_node(\"llm\", self.call_openai)\n",
    "        graph.add_node(\"action\", self.take_action)\n",
    "        graph.add_conditional_edges(\"llm\", self.exists_action, {True: \"action\", False: END})\n",
    "        graph.add_edge(\"action\", \"llm\")\n",
    "        graph.set_entry_point(\"llm\")\n",
    "        self.graph = graph.compile(\n",
    "            checkpointer=checkpointer,\n",
    "            interrupt_before=[\"action\"]\n",
    "        )\n",
    "        self.tools = {t.name: t for t in tools}\n",
    "        self.model = model.bind_tools(tools)\n",
    "\n",
    "    def call_openai(self, state: AgentState):\n",
    "        messages = state['messages']\n",
    "        if self.system:\n",
    "            messages = [SystemMessage(content=self.system)] + messages\n",
    "        message = self.model.invoke(messages)\n",
    "        return {'messages': [message]}\n",
    "\n",
    "    def exists_action(self, state: AgentState):\n",
    "        print(state)\n",
    "        result = state['messages'][-1]\n",
    "        return len(result.tool_calls) > 0\n",
    "\n",
    "    def take_action(self, state: AgentState):\n",
    "        tool_calls = state['messages'][-1].tool_calls\n",
    "        results = []\n",
    "        for t in tool_calls:\n",
    "            print(f\"Calling: {t}\")\n",
    "            result = self.tools[t['name']].invoke(t['args'])\n",
    "            results.append(ToolMessage(tool_call_id=t['id'], name=t['name'], content=str(result)))\n",
    "        print(\"Back to the model!\")\n",
    "        return {'messages': results}"
   ]
  },
  {
   "cell_type": "code",
   "execution_count": 7,
   "metadata": {},
   "outputs": [],
   "source": [
    "prompt = \"\"\"You are a smart research assistant. Use the search engine to look up information. \\\n",
    "You are allowed to make multiple calls (either together or in sequence). \\\n",
    "Only look up information when you are sure of what you want. \\\n",
    "If you need to look up some information before asking a follow up question, you are allowed to do that!\n",
    "\"\"\"\n",
    "model = ChatOpenAI(model=\"gpt-3.5-turbo\")\n",
    "abot = Agent(model, [tool], system=prompt, checkpointer=memory)"
   ]
  },
  {
   "cell_type": "code",
   "execution_count": 8,
   "metadata": {},
   "outputs": [
    {
     "name": "stdout",
     "output_type": "stream",
     "text": [
      "{'messages': [HumanMessage(content='Whats the weather in SF?', additional_kwargs={}, response_metadata={}, id='33a8a3d2-5077-4db0-8d30-056150f94376'), AIMessage(content='', additional_kwargs={'tool_calls': [{'id': 'call_ERPDqAppWJ378pGYLBpyf2xe', 'function': {'arguments': '{\"query\":\"weather in San Francisco\"}', 'name': 'tavily_search_results_json'}, 'type': 'function'}], 'refusal': None}, response_metadata={'token_usage': {'completion_tokens': 21, 'prompt_tokens': 152, 'total_tokens': 173, 'completion_tokens_details': {'audio_tokens': 0, 'reasoning_tokens': 0, 'accepted_prediction_tokens': 0, 'rejected_prediction_tokens': 0}, 'prompt_tokens_details': {'audio_tokens': 0, 'cached_tokens': 0}}, 'model_name': 'gpt-3.5-turbo-0125', 'system_fingerprint': None, 'finish_reason': 'tool_calls', 'logprobs': None}, id='run-6b7dd24c-6e5d-45be-b49f-aae5332f856a-0', tool_calls=[{'name': 'tavily_search_results_json', 'args': {'query': 'weather in San Francisco'}, 'id': 'call_ERPDqAppWJ378pGYLBpyf2xe', 'type': 'tool_call'}], usage_metadata={'input_tokens': 152, 'output_tokens': 21, 'total_tokens': 173, 'input_token_details': {'audio': 0, 'cache_read': 0}, 'output_token_details': {'audio': 0, 'reasoning': 0}})]}\n",
      "{'messages': [AIMessage(content='', additional_kwargs={'tool_calls': [{'id': 'call_ERPDqAppWJ378pGYLBpyf2xe', 'function': {'arguments': '{\"query\":\"weather in San Francisco\"}', 'name': 'tavily_search_results_json'}, 'type': 'function'}], 'refusal': None}, response_metadata={'token_usage': {'completion_tokens': 21, 'prompt_tokens': 152, 'total_tokens': 173, 'completion_tokens_details': {'audio_tokens': 0, 'reasoning_tokens': 0, 'accepted_prediction_tokens': 0, 'rejected_prediction_tokens': 0}, 'prompt_tokens_details': {'audio_tokens': 0, 'cached_tokens': 0}}, 'model_name': 'gpt-3.5-turbo-0125', 'system_fingerprint': None, 'finish_reason': 'tool_calls', 'logprobs': None}, id='run-6b7dd24c-6e5d-45be-b49f-aae5332f856a-0', tool_calls=[{'name': 'tavily_search_results_json', 'args': {'query': 'weather in San Francisco'}, 'id': 'call_ERPDqAppWJ378pGYLBpyf2xe', 'type': 'tool_call'}], usage_metadata={'input_tokens': 152, 'output_tokens': 21, 'total_tokens': 173, 'input_token_details': {'audio': 0, 'cache_read': 0}, 'output_token_details': {'audio': 0, 'reasoning': 0}})]}\n",
      "()\n"
     ]
    }
   ],
   "source": [
    "messages = [HumanMessage(content=\"Whats the weather in SF?\")]\n",
    "\n",
    "thread = {\"configurable\": {\"thread_id\": \"1\"}} #we'll be running the graph inside this context thread=1\n",
    "\n",
    "for event in abot.graph.stream({\"messages\": messages}, thread):\n",
    "    for v in event.values():\n",
    "        print(v)"
   ]
  },
  {
   "cell_type": "markdown",
   "metadata": {},
   "source": [
    "We see here how, the `interrupt_before=[\"action\"]` makes the graph stop here.\n",
    "\n",
    "It prepared a query for the search api, and then attempted to call `tavily` tool "
   ]
  },
  {
   "cell_type": "code",
   "execution_count": 9,
   "metadata": {},
   "outputs": [
    {
     "data": {
      "text/plain": [
       "StateSnapshot(values={'messages': [HumanMessage(content='Whats the weather in SF?', additional_kwargs={}, response_metadata={}, id='33a8a3d2-5077-4db0-8d30-056150f94376'), AIMessage(content='', additional_kwargs={'tool_calls': [{'id': 'call_ERPDqAppWJ378pGYLBpyf2xe', 'function': {'arguments': '{\"query\":\"weather in San Francisco\"}', 'name': 'tavily_search_results_json'}, 'type': 'function'}], 'refusal': None}, response_metadata={'token_usage': {'completion_tokens': 21, 'prompt_tokens': 152, 'total_tokens': 173, 'completion_tokens_details': {'audio_tokens': 0, 'reasoning_tokens': 0, 'accepted_prediction_tokens': 0, 'rejected_prediction_tokens': 0}, 'prompt_tokens_details': {'audio_tokens': 0, 'cached_tokens': 0}}, 'model_name': 'gpt-3.5-turbo-0125', 'system_fingerprint': None, 'finish_reason': 'tool_calls', 'logprobs': None}, id='run-6b7dd24c-6e5d-45be-b49f-aae5332f856a-0', tool_calls=[{'name': 'tavily_search_results_json', 'args': {'query': 'weather in San Francisco'}, 'id': 'call_ERPDqAppWJ378pGYLBpyf2xe', 'type': 'tool_call'}], usage_metadata={'input_tokens': 152, 'output_tokens': 21, 'total_tokens': 173, 'input_token_details': {'audio': 0, 'cache_read': 0}, 'output_token_details': {'audio': 0, 'reasoning': 0}})]}, next=('action',), config={'configurable': {'thread_id': '1', 'checkpoint_ns': '', 'checkpoint_id': '1efa3f8d-e9d3-64c4-8001-ada512c3e22c'}}, metadata={'source': 'loop', 'writes': {'llm': {'messages': [AIMessage(content='', additional_kwargs={'tool_calls': [{'id': 'call_ERPDqAppWJ378pGYLBpyf2xe', 'function': {'arguments': '{\"query\":\"weather in San Francisco\"}', 'name': 'tavily_search_results_json'}, 'type': 'function'}], 'refusal': None}, response_metadata={'token_usage': {'completion_tokens': 21, 'prompt_tokens': 152, 'total_tokens': 173, 'completion_tokens_details': {'audio_tokens': 0, 'reasoning_tokens': 0, 'accepted_prediction_tokens': 0, 'rejected_prediction_tokens': 0}, 'prompt_tokens_details': {'audio_tokens': 0, 'cached_tokens': 0}}, 'model_name': 'gpt-3.5-turbo-0125', 'system_fingerprint': None, 'finish_reason': 'tool_calls', 'logprobs': None}, id='run-6b7dd24c-6e5d-45be-b49f-aae5332f856a-0', tool_calls=[{'name': 'tavily_search_results_json', 'args': {'query': 'weather in San Francisco'}, 'id': 'call_ERPDqAppWJ378pGYLBpyf2xe', 'type': 'tool_call'}], usage_metadata={'input_tokens': 152, 'output_tokens': 21, 'total_tokens': 173, 'input_token_details': {'audio': 0, 'cache_read': 0}, 'output_token_details': {'audio': 0, 'reasoning': 0}})]}}, 'step': 1, 'parents': {}}, created_at='2024-11-16T08:57:55.383622+00:00', parent_config={'configurable': {'thread_id': '1', 'checkpoint_ns': '', 'checkpoint_id': '1efa3f8d-df7d-6209-8000-824a20510974'}}, tasks=(PregelTask(id='856d613d-d7e6-5fa2-8d38-b9a570306707', name='action', path=('__pregel_pull', 'action'), error=None, interrupts=(), state=None, result=None),))"
      ]
     },
     "execution_count": 9,
     "metadata": {},
     "output_type": "execute_result"
    }
   ],
   "source": [
    "#within this function, we can access to the particular state of the graph at this specific point \n",
    "#we'll get a \"copy\" of the agent at this particular moment\n",
    "\n",
    "abot.graph.get_state(thread)"
   ]
  },
  {
   "cell_type": "markdown",
   "metadata": {},
   "source": [
    "By calling `.next` attribute, we can clearly see how the next node the agent has to execute is `action` (where we instructed to stop at)"
   ]
  },
  {
   "cell_type": "code",
   "execution_count": 10,
   "metadata": {},
   "outputs": [
    {
     "data": {
      "text/plain": [
       "('action',)"
      ]
     },
     "execution_count": 10,
     "metadata": {},
     "output_type": "execute_result"
    }
   ],
   "source": [
    "abot.graph.get_state(thread).next #renember to pass in the thread we're running on the agent"
   ]
  },
  {
   "cell_type": "markdown",
   "metadata": {},
   "source": [
    "#### Continuing after interrumpt"
   ]
  },
  {
   "cell_type": "markdown",
   "metadata": {},
   "source": [
    "After the interrumpt of the ``action`` tool call of the search api, **we'll go ahead and make the agent run from that point**"
   ]
  },
  {
   "cell_type": "code",
   "execution_count": 11,
   "metadata": {},
   "outputs": [
    {
     "name": "stdout",
     "output_type": "stream",
     "text": [
      "Calling: {'name': 'tavily_search_results_json', 'args': {'query': 'weather in San Francisco'}, 'id': 'call_ERPDqAppWJ378pGYLBpyf2xe', 'type': 'tool_call'}\n",
      "Back to the model!\n",
      "{'messages': [ToolMessage(content='[{\\'url\\': \\'https://www.weatherapi.com/\\', \\'content\\': \"{\\'location\\': {\\'name\\': \\'San Francisco\\', \\'region\\': \\'California\\', \\'country\\': \\'United States of America\\', \\'lat\\': 37.775, \\'lon\\': -122.4183, \\'tz_id\\': \\'America/Los_Angeles\\', \\'localtime_epoch\\': 1731747282, \\'localtime\\': \\'2024-11-16 00:54\\'}, \\'current\\': {\\'last_updated_epoch\\': 1731746700, \\'last_updated\\': \\'2024-11-16 00:45\\', \\'temp_c\\': 10.6, \\'temp_f\\': 51.1, \\'is_day\\': 0, \\'condition\\': {\\'text\\': \\'Clear\\', \\'icon\\': \\'//cdn.weatherapi.com/weather/64x64/night/113.png\\', \\'code\\': 1000}, \\'wind_mph\\': 6.3, \\'wind_kph\\': 10.1, \\'wind_degree\\': 323, \\'wind_dir\\': \\'NW\\', \\'pressure_mb\\': 1017.0, \\'pressure_in\\': 30.03, \\'precip_mm\\': 0.0, \\'precip_in\\': 0.0, \\'humidity\\': 65, \\'cloud\\': 0, \\'feelslike_c\\': 9.3, \\'feelslike_f\\': 48.8, \\'windchill_c\\': 8.8, \\'windchill_f\\': 47.8, \\'heatindex_c\\': 10.0, \\'heatindex_f\\': 50.0, \\'dewpoint_c\\': 5.4, \\'dewpoint_f\\': 41.8, \\'vis_km\\': 16.0, \\'vis_miles\\': 9.0, \\'uv\\': 0.0, \\'gust_mph\\': 9.9, \\'gust_kph\\': 15.9}}\"}, {\\'url\\': \\'https://forecast.weather.gov/MapClick.php?lat=37.777120000000025&lon=-122.41965999999996\\', \\'content\\': \\'Critical Fire Weather in Southern New England; Heavy Rain and Mountain Snow for the Northwestern U.S. ... SAN FRANCISCO DOWNTOWN (SFOC1) Lat: 37.77056°NLon: 122.42694°WElev: 150.0ft. NA. 58°F. 14°C. Humidity: 64%: ... 07:00am until November 16, 11:00am. Click here for hazard details and duration. Coastal Flood Advisory. High Surf Advisory.\\'}]', name='tavily_search_results_json', id='c0a0bce5-9b0e-4e1c-af51-2815ec4eeefe', tool_call_id='call_ERPDqAppWJ378pGYLBpyf2xe')]}\n",
      "{'messages': [HumanMessage(content='Whats the weather in SF?', additional_kwargs={}, response_metadata={}, id='33a8a3d2-5077-4db0-8d30-056150f94376'), AIMessage(content='', additional_kwargs={'tool_calls': [{'id': 'call_ERPDqAppWJ378pGYLBpyf2xe', 'function': {'arguments': '{\"query\":\"weather in San Francisco\"}', 'name': 'tavily_search_results_json'}, 'type': 'function'}], 'refusal': None}, response_metadata={'token_usage': {'completion_tokens': 21, 'prompt_tokens': 152, 'total_tokens': 173, 'completion_tokens_details': {'audio_tokens': 0, 'reasoning_tokens': 0, 'accepted_prediction_tokens': 0, 'rejected_prediction_tokens': 0}, 'prompt_tokens_details': {'audio_tokens': 0, 'cached_tokens': 0}}, 'model_name': 'gpt-3.5-turbo-0125', 'system_fingerprint': None, 'finish_reason': 'tool_calls', 'logprobs': None}, id='run-6b7dd24c-6e5d-45be-b49f-aae5332f856a-0', tool_calls=[{'name': 'tavily_search_results_json', 'args': {'query': 'weather in San Francisco'}, 'id': 'call_ERPDqAppWJ378pGYLBpyf2xe', 'type': 'tool_call'}], usage_metadata={'input_tokens': 152, 'output_tokens': 21, 'total_tokens': 173, 'input_token_details': {'audio': 0, 'cache_read': 0}, 'output_token_details': {'audio': 0, 'reasoning': 0}}), ToolMessage(content='[{\\'url\\': \\'https://www.weatherapi.com/\\', \\'content\\': \"{\\'location\\': {\\'name\\': \\'San Francisco\\', \\'region\\': \\'California\\', \\'country\\': \\'United States of America\\', \\'lat\\': 37.775, \\'lon\\': -122.4183, \\'tz_id\\': \\'America/Los_Angeles\\', \\'localtime_epoch\\': 1731747282, \\'localtime\\': \\'2024-11-16 00:54\\'}, \\'current\\': {\\'last_updated_epoch\\': 1731746700, \\'last_updated\\': \\'2024-11-16 00:45\\', \\'temp_c\\': 10.6, \\'temp_f\\': 51.1, \\'is_day\\': 0, \\'condition\\': {\\'text\\': \\'Clear\\', \\'icon\\': \\'//cdn.weatherapi.com/weather/64x64/night/113.png\\', \\'code\\': 1000}, \\'wind_mph\\': 6.3, \\'wind_kph\\': 10.1, \\'wind_degree\\': 323, \\'wind_dir\\': \\'NW\\', \\'pressure_mb\\': 1017.0, \\'pressure_in\\': 30.03, \\'precip_mm\\': 0.0, \\'precip_in\\': 0.0, \\'humidity\\': 65, \\'cloud\\': 0, \\'feelslike_c\\': 9.3, \\'feelslike_f\\': 48.8, \\'windchill_c\\': 8.8, \\'windchill_f\\': 47.8, \\'heatindex_c\\': 10.0, \\'heatindex_f\\': 50.0, \\'dewpoint_c\\': 5.4, \\'dewpoint_f\\': 41.8, \\'vis_km\\': 16.0, \\'vis_miles\\': 9.0, \\'uv\\': 0.0, \\'gust_mph\\': 9.9, \\'gust_kph\\': 15.9}}\"}, {\\'url\\': \\'https://forecast.weather.gov/MapClick.php?lat=37.777120000000025&lon=-122.41965999999996\\', \\'content\\': \\'Critical Fire Weather in Southern New England; Heavy Rain and Mountain Snow for the Northwestern U.S. ... SAN FRANCISCO DOWNTOWN (SFOC1) Lat: 37.77056°NLon: 122.42694°WElev: 150.0ft. NA. 58°F. 14°C. Humidity: 64%: ... 07:00am until November 16, 11:00am. Click here for hazard details and duration. Coastal Flood Advisory. High Surf Advisory.\\'}]', name='tavily_search_results_json', id='c0a0bce5-9b0e-4e1c-af51-2815ec4eeefe', tool_call_id='call_ERPDqAppWJ378pGYLBpyf2xe'), AIMessage(content='The current weather in San Francisco is clear with a temperature of 51.1°F (10.6°C). The wind is coming from the northwest at 10.1 km/h, and the humidity is at 65%.', additional_kwargs={'refusal': None}, response_metadata={'token_usage': {'completion_tokens': 47, 'prompt_tokens': 742, 'total_tokens': 789, 'completion_tokens_details': {'audio_tokens': 0, 'reasoning_tokens': 0, 'accepted_prediction_tokens': 0, 'rejected_prediction_tokens': 0}, 'prompt_tokens_details': {'audio_tokens': 0, 'cached_tokens': 0}}, 'model_name': 'gpt-3.5-turbo-0125', 'system_fingerprint': None, 'finish_reason': 'stop', 'logprobs': None}, id='run-20494889-e80a-44ac-95fe-0c830f02fc2c-0', usage_metadata={'input_tokens': 742, 'output_tokens': 47, 'total_tokens': 789, 'input_token_details': {'audio': 0, 'cache_read': 0}, 'output_token_details': {'audio': 0, 'reasoning': 0}})]}\n",
      "{'messages': [AIMessage(content='The current weather in San Francisco is clear with a temperature of 51.1°F (10.6°C). The wind is coming from the northwest at 10.1 km/h, and the humidity is at 65%.', additional_kwargs={'refusal': None}, response_metadata={'token_usage': {'completion_tokens': 47, 'prompt_tokens': 742, 'total_tokens': 789, 'completion_tokens_details': {'audio_tokens': 0, 'reasoning_tokens': 0, 'accepted_prediction_tokens': 0, 'rejected_prediction_tokens': 0}, 'prompt_tokens_details': {'audio_tokens': 0, 'cached_tokens': 0}}, 'model_name': 'gpt-3.5-turbo-0125', 'system_fingerprint': None, 'finish_reason': 'stop', 'logprobs': None}, id='run-20494889-e80a-44ac-95fe-0c830f02fc2c-0', usage_metadata={'input_tokens': 742, 'output_tokens': 47, 'total_tokens': 789, 'input_token_details': {'audio': 0, 'cache_read': 0}, 'output_token_details': {'audio': 0, 'reasoning': 0}})]}\n"
     ]
    }
   ],
   "source": [
    "for event in abot.graph.stream(None, thread):\n",
    "    #no input now because we are just running again the agent\n",
    "    #before we used the [messages] list as input (prompt)\n",
    "    \n",
    "    for v in event.values():\n",
    "        \n",
    "        print(v)"
   ]
  },
  {
   "cell_type": "markdown",
   "metadata": {},
   "source": [
    "Now, we can see how it sucessfully calls the search api, and delivers an `AIMessage`, **notice that this didn't get interrumpted since we just specified `interrupt=\"action\"`**"
   ]
  },
  {
   "cell_type": "code",
   "execution_count": 12,
   "metadata": {},
   "outputs": [
    {
     "data": {
      "text/plain": [
       "StateSnapshot(values={'messages': [HumanMessage(content='Whats the weather in SF?', additional_kwargs={}, response_metadata={}, id='33a8a3d2-5077-4db0-8d30-056150f94376'), AIMessage(content='', additional_kwargs={'tool_calls': [{'id': 'call_ERPDqAppWJ378pGYLBpyf2xe', 'function': {'arguments': '{\"query\":\"weather in San Francisco\"}', 'name': 'tavily_search_results_json'}, 'type': 'function'}], 'refusal': None}, response_metadata={'token_usage': {'completion_tokens': 21, 'prompt_tokens': 152, 'total_tokens': 173, 'completion_tokens_details': {'audio_tokens': 0, 'reasoning_tokens': 0, 'accepted_prediction_tokens': 0, 'rejected_prediction_tokens': 0}, 'prompt_tokens_details': {'audio_tokens': 0, 'cached_tokens': 0}}, 'model_name': 'gpt-3.5-turbo-0125', 'system_fingerprint': None, 'finish_reason': 'tool_calls', 'logprobs': None}, id='run-6b7dd24c-6e5d-45be-b49f-aae5332f856a-0', tool_calls=[{'name': 'tavily_search_results_json', 'args': {'query': 'weather in San Francisco'}, 'id': 'call_ERPDqAppWJ378pGYLBpyf2xe', 'type': 'tool_call'}], usage_metadata={'input_tokens': 152, 'output_tokens': 21, 'total_tokens': 173, 'input_token_details': {'audio': 0, 'cache_read': 0}, 'output_token_details': {'audio': 0, 'reasoning': 0}}), ToolMessage(content='[{\\'url\\': \\'https://www.weatherapi.com/\\', \\'content\\': \"{\\'location\\': {\\'name\\': \\'San Francisco\\', \\'region\\': \\'California\\', \\'country\\': \\'United States of America\\', \\'lat\\': 37.775, \\'lon\\': -122.4183, \\'tz_id\\': \\'America/Los_Angeles\\', \\'localtime_epoch\\': 1731747282, \\'localtime\\': \\'2024-11-16 00:54\\'}, \\'current\\': {\\'last_updated_epoch\\': 1731746700, \\'last_updated\\': \\'2024-11-16 00:45\\', \\'temp_c\\': 10.6, \\'temp_f\\': 51.1, \\'is_day\\': 0, \\'condition\\': {\\'text\\': \\'Clear\\', \\'icon\\': \\'//cdn.weatherapi.com/weather/64x64/night/113.png\\', \\'code\\': 1000}, \\'wind_mph\\': 6.3, \\'wind_kph\\': 10.1, \\'wind_degree\\': 323, \\'wind_dir\\': \\'NW\\', \\'pressure_mb\\': 1017.0, \\'pressure_in\\': 30.03, \\'precip_mm\\': 0.0, \\'precip_in\\': 0.0, \\'humidity\\': 65, \\'cloud\\': 0, \\'feelslike_c\\': 9.3, \\'feelslike_f\\': 48.8, \\'windchill_c\\': 8.8, \\'windchill_f\\': 47.8, \\'heatindex_c\\': 10.0, \\'heatindex_f\\': 50.0, \\'dewpoint_c\\': 5.4, \\'dewpoint_f\\': 41.8, \\'vis_km\\': 16.0, \\'vis_miles\\': 9.0, \\'uv\\': 0.0, \\'gust_mph\\': 9.9, \\'gust_kph\\': 15.9}}\"}, {\\'url\\': \\'https://forecast.weather.gov/MapClick.php?lat=37.777120000000025&lon=-122.41965999999996\\', \\'content\\': \\'Critical Fire Weather in Southern New England; Heavy Rain and Mountain Snow for the Northwestern U.S. ... SAN FRANCISCO DOWNTOWN (SFOC1) Lat: 37.77056°NLon: 122.42694°WElev: 150.0ft. NA. 58°F. 14°C. Humidity: 64%: ... 07:00am until November 16, 11:00am. Click here for hazard details and duration. Coastal Flood Advisory. High Surf Advisory.\\'}]', name='tavily_search_results_json', id='c0a0bce5-9b0e-4e1c-af51-2815ec4eeefe', tool_call_id='call_ERPDqAppWJ378pGYLBpyf2xe'), AIMessage(content='The current weather in San Francisco is clear with a temperature of 51.1°F (10.6°C). The wind is coming from the northwest at 10.1 km/h, and the humidity is at 65%.', additional_kwargs={'refusal': None}, response_metadata={'token_usage': {'completion_tokens': 47, 'prompt_tokens': 742, 'total_tokens': 789, 'completion_tokens_details': {'audio_tokens': 0, 'reasoning_tokens': 0, 'accepted_prediction_tokens': 0, 'rejected_prediction_tokens': 0}, 'prompt_tokens_details': {'audio_tokens': 0, 'cached_tokens': 0}}, 'model_name': 'gpt-3.5-turbo-0125', 'system_fingerprint': None, 'finish_reason': 'stop', 'logprobs': None}, id='run-20494889-e80a-44ac-95fe-0c830f02fc2c-0', usage_metadata={'input_tokens': 742, 'output_tokens': 47, 'total_tokens': 789, 'input_token_details': {'audio': 0, 'cache_read': 0}, 'output_token_details': {'audio': 0, 'reasoning': 0}})]}, next=(), config={'configurable': {'thread_id': '1', 'checkpoint_ns': '', 'checkpoint_id': '1efa3f8e-13c0-61f4-8003-db2c5228902c'}}, metadata={'source': 'loop', 'writes': {'llm': {'messages': [AIMessage(content='The current weather in San Francisco is clear with a temperature of 51.1°F (10.6°C). The wind is coming from the northwest at 10.1 km/h, and the humidity is at 65%.', additional_kwargs={'refusal': None}, response_metadata={'token_usage': {'completion_tokens': 47, 'prompt_tokens': 742, 'total_tokens': 789, 'completion_tokens_details': {'audio_tokens': 0, 'reasoning_tokens': 0, 'accepted_prediction_tokens': 0, 'rejected_prediction_tokens': 0}, 'prompt_tokens_details': {'audio_tokens': 0, 'cached_tokens': 0}}, 'model_name': 'gpt-3.5-turbo-0125', 'system_fingerprint': None, 'finish_reason': 'stop', 'logprobs': None}, id='run-20494889-e80a-44ac-95fe-0c830f02fc2c-0', usage_metadata={'input_tokens': 742, 'output_tokens': 47, 'total_tokens': 789, 'input_token_details': {'audio': 0, 'cache_read': 0}, 'output_token_details': {'audio': 0, 'reasoning': 0}})]}}, 'step': 3, 'parents': {}}, created_at='2024-11-16T08:57:59.779787+00:00', parent_config={'configurable': {'thread_id': '1', 'checkpoint_ns': '', 'checkpoint_id': '1efa3f8e-0aad-673f-8002-de6a47660829'}}, tasks=())"
      ]
     },
     "execution_count": 12,
     "metadata": {},
     "output_type": "execute_result"
    }
   ],
   "source": [
    "abot.graph.get_state(thread)"
   ]
  },
  {
   "cell_type": "markdown",
   "metadata": {},
   "source": [
    "When running now the `.next` attribute, we'll get an empty tuple, `meaning that there's nothing left to be done by the agent`"
   ]
  },
  {
   "cell_type": "code",
   "execution_count": 13,
   "metadata": {},
   "outputs": [
    {
     "data": {
      "text/plain": [
       "()"
      ]
     },
     "execution_count": 13,
     "metadata": {},
     "output_type": "execute_result"
    }
   ],
   "source": [
    "abot.graph.get_state(thread).next"
   ]
  },
  {
   "cell_type": "markdown",
   "metadata": {},
   "source": [
    "### Putting this interrumpt inside a loop \n",
    "\n",
    "#### (For each interumption, we'll just ask the user whether he/she wants to continue)"
   ]
  },
  {
   "cell_type": "code",
   "execution_count": 14,
   "metadata": {},
   "outputs": [
    {
     "name": "stdout",
     "output_type": "stream",
     "text": [
      "{'messages': [HumanMessage(content='Whats the weather in LA?', additional_kwargs={}, response_metadata={}, id='cf0bc4a8-0702-4e8c-8cc2-c92597e4803f'), AIMessage(content='', additional_kwargs={'tool_calls': [{'id': 'call_vLW6et4OHjWA5R4vrfMwmO6W', 'function': {'arguments': '{\"query\":\"weather in Los Angeles\"}', 'name': 'tavily_search_results_json'}, 'type': 'function'}], 'refusal': None}, response_metadata={'token_usage': {'completion_tokens': 21, 'prompt_tokens': 152, 'total_tokens': 173, 'completion_tokens_details': {'audio_tokens': 0, 'reasoning_tokens': 0, 'accepted_prediction_tokens': 0, 'rejected_prediction_tokens': 0}, 'prompt_tokens_details': {'audio_tokens': 0, 'cached_tokens': 0}}, 'model_name': 'gpt-3.5-turbo-0125', 'system_fingerprint': None, 'finish_reason': 'tool_calls', 'logprobs': None}, id='run-7e449cc9-4cc7-4ef2-bad0-d0410f0e14cc-0', tool_calls=[{'name': 'tavily_search_results_json', 'args': {'query': 'weather in Los Angeles'}, 'id': 'call_vLW6et4OHjWA5R4vrfMwmO6W', 'type': 'tool_call'}], usage_metadata={'input_tokens': 152, 'output_tokens': 21, 'total_tokens': 173, 'input_token_details': {'audio': 0, 'cache_read': 0}, 'output_token_details': {'audio': 0, 'reasoning': 0}})]}\n",
      "{'messages': [AIMessage(content='', additional_kwargs={'tool_calls': [{'id': 'call_vLW6et4OHjWA5R4vrfMwmO6W', 'function': {'arguments': '{\"query\":\"weather in Los Angeles\"}', 'name': 'tavily_search_results_json'}, 'type': 'function'}], 'refusal': None}, response_metadata={'token_usage': {'completion_tokens': 21, 'prompt_tokens': 152, 'total_tokens': 173, 'completion_tokens_details': {'audio_tokens': 0, 'reasoning_tokens': 0, 'accepted_prediction_tokens': 0, 'rejected_prediction_tokens': 0}, 'prompt_tokens_details': {'audio_tokens': 0, 'cached_tokens': 0}}, 'model_name': 'gpt-3.5-turbo-0125', 'system_fingerprint': None, 'finish_reason': 'tool_calls', 'logprobs': None}, id='run-7e449cc9-4cc7-4ef2-bad0-d0410f0e14cc-0', tool_calls=[{'name': 'tavily_search_results_json', 'args': {'query': 'weather in Los Angeles'}, 'id': 'call_vLW6et4OHjWA5R4vrfMwmO6W', 'type': 'tool_call'}], usage_metadata={'input_tokens': 152, 'output_tokens': 21, 'total_tokens': 173, 'input_token_details': {'audio': 0, 'cache_read': 0}, 'output_token_details': {'audio': 0, 'reasoning': 0}})]}\n",
      "()\n",
      "\n",
      " StateSnapshot(values={'messages': [HumanMessage(content='Whats the weather in LA?', additional_kwargs={}, response_metadata={}, id='cf0bc4a8-0702-4e8c-8cc2-c92597e4803f'), AIMessage(content='', additional_kwargs={'tool_calls': [{'id': 'call_vLW6et4OHjWA5R4vrfMwmO6W', 'function': {'arguments': '{\"query\":\"weather in Los Angeles\"}', 'name': 'tavily_search_results_json'}, 'type': 'function'}], 'refusal': None}, response_metadata={'token_usage': {'completion_tokens': 21, 'prompt_tokens': 152, 'total_tokens': 173, 'completion_tokens_details': {'audio_tokens': 0, 'reasoning_tokens': 0, 'accepted_prediction_tokens': 0, 'rejected_prediction_tokens': 0}, 'prompt_tokens_details': {'audio_tokens': 0, 'cached_tokens': 0}}, 'model_name': 'gpt-3.5-turbo-0125', 'system_fingerprint': None, 'finish_reason': 'tool_calls', 'logprobs': None}, id='run-7e449cc9-4cc7-4ef2-bad0-d0410f0e14cc-0', tool_calls=[{'name': 'tavily_search_results_json', 'args': {'query': 'weather in Los Angeles'}, 'id': 'call_vLW6et4OHjWA5R4vrfMwmO6W', 'type': 'tool_call'}], usage_metadata={'input_tokens': 152, 'output_tokens': 21, 'total_tokens': 173, 'input_token_details': {'audio': 0, 'cache_read': 0}, 'output_token_details': {'audio': 0, 'reasoning': 0}})]}, next=('action',), config={'configurable': {'thread_id': '2', 'checkpoint_ns': '', 'checkpoint_id': '1efa3f8e-1acf-61f1-8001-1aec9f985019'}}, metadata={'source': 'loop', 'writes': {'llm': {'messages': [AIMessage(content='', additional_kwargs={'tool_calls': [{'id': 'call_vLW6et4OHjWA5R4vrfMwmO6W', 'function': {'arguments': '{\"query\":\"weather in Los Angeles\"}', 'name': 'tavily_search_results_json'}, 'type': 'function'}], 'refusal': None}, response_metadata={'token_usage': {'completion_tokens': 21, 'prompt_tokens': 152, 'total_tokens': 173, 'completion_tokens_details': {'audio_tokens': 0, 'reasoning_tokens': 0, 'accepted_prediction_tokens': 0, 'rejected_prediction_tokens': 0}, 'prompt_tokens_details': {'audio_tokens': 0, 'cached_tokens': 0}}, 'model_name': 'gpt-3.5-turbo-0125', 'system_fingerprint': None, 'finish_reason': 'tool_calls', 'logprobs': None}, id='run-7e449cc9-4cc7-4ef2-bad0-d0410f0e14cc-0', tool_calls=[{'name': 'tavily_search_results_json', 'args': {'query': 'weather in Los Angeles'}, 'id': 'call_vLW6et4OHjWA5R4vrfMwmO6W', 'type': 'tool_call'}], usage_metadata={'input_tokens': 152, 'output_tokens': 21, 'total_tokens': 173, 'input_token_details': {'audio': 0, 'cache_read': 0}, 'output_token_details': {'audio': 0, 'reasoning': 0}})]}}, 'step': 1, 'parents': {}}, created_at='2024-11-16T08:58:00.519934+00:00', parent_config={'configurable': {'thread_id': '2', 'checkpoint_ns': '', 'checkpoint_id': '1efa3f8e-1558-6993-8000-532c890b673d'}}, tasks=(PregelTask(id='90df63a4-8989-1957-2a2d-c8d3abd4e76e', name='action', path=('__pregel_pull', 'action'), error=None, interrupts=(), state=None, result=None),)) \n",
      "\n",
      "Calling: {'name': 'tavily_search_results_json', 'args': {'query': 'weather in Los Angeles'}, 'id': 'call_vLW6et4OHjWA5R4vrfMwmO6W', 'type': 'tool_call'}\n",
      "Back to the model!\n",
      "{'messages': [ToolMessage(content='[{\\'url\\': \\'https://www.weatherapi.com/\\', \\'content\\': \"{\\'location\\': {\\'name\\': \\'Los Angeles\\', \\'region\\': \\'California\\', \\'country\\': \\'United States of America\\', \\'lat\\': 34.0522, \\'lon\\': -118.2428, \\'tz_id\\': \\'America/Los_Angeles\\', \\'localtime_epoch\\': 1731747675, \\'localtime\\': \\'2024-11-16 01:01\\'}, \\'current\\': {\\'last_updated_epoch\\': 1731747600, \\'last_updated\\': \\'2024-11-16 01:00\\', \\'temp_c\\': 13.3, \\'temp_f\\': 55.9, \\'is_day\\': 0, \\'condition\\': {\\'text\\': \\'Clear\\', \\'icon\\': \\'//cdn.weatherapi.com/weather/64x64/night/113.png\\', \\'code\\': 1000}, \\'wind_mph\\': 9.6, \\'wind_kph\\': 15.5, \\'wind_degree\\': 355, \\'wind_dir\\': \\'N\\', \\'pressure_mb\\': 1013.0, \\'pressure_in\\': 29.9, \\'precip_mm\\': 0.0, \\'precip_in\\': 0.0, \\'humidity\\': 40, \\'cloud\\': 0, \\'feelslike_c\\': 11.9, \\'feelslike_f\\': 53.5, \\'windchill_c\\': 9.5, \\'windchill_f\\': 49.0, \\'heatindex_c\\': 10.6, \\'heatindex_f\\': 51.1, \\'dewpoint_c\\': 1.4, \\'dewpoint_f\\': 34.5, \\'vis_km\\': 16.0, \\'vis_miles\\': 9.0, \\'uv\\': 0.0, \\'gust_mph\\': 13.0, \\'gust_kph\\': 20.9}}\"}, {\\'url\\': \\'https://www.foxla.com/weather\\', \\'content\\': \\'Weather on FOX 11 Los Angeles. Weather on FOX 11 Los Angeles. Live; News; ... Nov 16. H 67 ° L 45 ... November 11, 2024 11:58pm PST. video.\\'}]', name='tavily_search_results_json', id='15bd8f30-0b76-4f56-afde-e405702db5a5', tool_call_id='call_vLW6et4OHjWA5R4vrfMwmO6W')]}\n",
      "{'messages': [HumanMessage(content='Whats the weather in LA?', additional_kwargs={}, response_metadata={}, id='cf0bc4a8-0702-4e8c-8cc2-c92597e4803f'), AIMessage(content='', additional_kwargs={'tool_calls': [{'id': 'call_vLW6et4OHjWA5R4vrfMwmO6W', 'function': {'arguments': '{\"query\":\"weather in Los Angeles\"}', 'name': 'tavily_search_results_json'}, 'type': 'function'}], 'refusal': None}, response_metadata={'token_usage': {'completion_tokens': 21, 'prompt_tokens': 152, 'total_tokens': 173, 'completion_tokens_details': {'audio_tokens': 0, 'reasoning_tokens': 0, 'accepted_prediction_tokens': 0, 'rejected_prediction_tokens': 0}, 'prompt_tokens_details': {'audio_tokens': 0, 'cached_tokens': 0}}, 'model_name': 'gpt-3.5-turbo-0125', 'system_fingerprint': None, 'finish_reason': 'tool_calls', 'logprobs': None}, id='run-7e449cc9-4cc7-4ef2-bad0-d0410f0e14cc-0', tool_calls=[{'name': 'tavily_search_results_json', 'args': {'query': 'weather in Los Angeles'}, 'id': 'call_vLW6et4OHjWA5R4vrfMwmO6W', 'type': 'tool_call'}], usage_metadata={'input_tokens': 152, 'output_tokens': 21, 'total_tokens': 173, 'input_token_details': {'audio': 0, 'cache_read': 0}, 'output_token_details': {'audio': 0, 'reasoning': 0}}), ToolMessage(content='[{\\'url\\': \\'https://www.weatherapi.com/\\', \\'content\\': \"{\\'location\\': {\\'name\\': \\'Los Angeles\\', \\'region\\': \\'California\\', \\'country\\': \\'United States of America\\', \\'lat\\': 34.0522, \\'lon\\': -118.2428, \\'tz_id\\': \\'America/Los_Angeles\\', \\'localtime_epoch\\': 1731747675, \\'localtime\\': \\'2024-11-16 01:01\\'}, \\'current\\': {\\'last_updated_epoch\\': 1731747600, \\'last_updated\\': \\'2024-11-16 01:00\\', \\'temp_c\\': 13.3, \\'temp_f\\': 55.9, \\'is_day\\': 0, \\'condition\\': {\\'text\\': \\'Clear\\', \\'icon\\': \\'//cdn.weatherapi.com/weather/64x64/night/113.png\\', \\'code\\': 1000}, \\'wind_mph\\': 9.6, \\'wind_kph\\': 15.5, \\'wind_degree\\': 355, \\'wind_dir\\': \\'N\\', \\'pressure_mb\\': 1013.0, \\'pressure_in\\': 29.9, \\'precip_mm\\': 0.0, \\'precip_in\\': 0.0, \\'humidity\\': 40, \\'cloud\\': 0, \\'feelslike_c\\': 11.9, \\'feelslike_f\\': 53.5, \\'windchill_c\\': 9.5, \\'windchill_f\\': 49.0, \\'heatindex_c\\': 10.6, \\'heatindex_f\\': 51.1, \\'dewpoint_c\\': 1.4, \\'dewpoint_f\\': 34.5, \\'vis_km\\': 16.0, \\'vis_miles\\': 9.0, \\'uv\\': 0.0, \\'gust_mph\\': 13.0, \\'gust_kph\\': 20.9}}\"}, {\\'url\\': \\'https://www.foxla.com/weather\\', \\'content\\': \\'Weather on FOX 11 Los Angeles. Weather on FOX 11 Los Angeles. Live; News; ... Nov 16. H 67 ° L 45 ... November 11, 2024 11:58pm PST. video.\\'}]', name='tavily_search_results_json', id='15bd8f30-0b76-4f56-afde-e405702db5a5', tool_call_id='call_vLW6et4OHjWA5R4vrfMwmO6W'), AIMessage(content='The current weather in Los Angeles is clear with a temperature of 55.9°F (13.3°C). The wind is coming from the north at 15.5 km/h.', additional_kwargs={'refusal': None}, response_metadata={'token_usage': {'completion_tokens': 39, 'prompt_tokens': 661, 'total_tokens': 700, 'completion_tokens_details': {'audio_tokens': 0, 'reasoning_tokens': 0, 'accepted_prediction_tokens': 0, 'rejected_prediction_tokens': 0}, 'prompt_tokens_details': {'audio_tokens': 0, 'cached_tokens': 0}}, 'model_name': 'gpt-3.5-turbo-0125', 'system_fingerprint': None, 'finish_reason': 'stop', 'logprobs': None}, id='run-968a20e4-c98b-4517-a610-4dc0dedce6a3-0', usage_metadata={'input_tokens': 661, 'output_tokens': 39, 'total_tokens': 700, 'input_token_details': {'audio': 0, 'cache_read': 0}, 'output_token_details': {'audio': 0, 'reasoning': 0}})]}\n",
      "{'messages': [AIMessage(content='The current weather in Los Angeles is clear with a temperature of 55.9°F (13.3°C). The wind is coming from the north at 15.5 km/h.', additional_kwargs={'refusal': None}, response_metadata={'token_usage': {'completion_tokens': 39, 'prompt_tokens': 661, 'total_tokens': 700, 'completion_tokens_details': {'audio_tokens': 0, 'reasoning_tokens': 0, 'accepted_prediction_tokens': 0, 'rejected_prediction_tokens': 0}, 'prompt_tokens_details': {'audio_tokens': 0, 'cached_tokens': 0}}, 'model_name': 'gpt-3.5-turbo-0125', 'system_fingerprint': None, 'finish_reason': 'stop', 'logprobs': None}, id='run-968a20e4-c98b-4517-a610-4dc0dedce6a3-0', usage_metadata={'input_tokens': 661, 'output_tokens': 39, 'total_tokens': 700, 'input_token_details': {'audio': 0, 'cache_read': 0}, 'output_token_details': {'audio': 0, 'reasoning': 0}})]}\n"
     ]
    }
   ],
   "source": [
    "messages = [HumanMessage(\"Whats the weather in LA?\")]\n",
    "\n",
    "\n",
    "thread = {\"configurable\": {\"thread_id\": \"2\"}}\n",
    "\n",
    "for event in abot.graph.stream({\"messages\": messages}, thread):\n",
    "    for v in event.values():\n",
    "        print(v)\n",
    "while abot.graph.get_state(thread).next:\n",
    "    print(\"\\n\", abot.graph.get_state(thread),\"\\n\")\n",
    "    _input = input(\"proceed?\")\n",
    "    if _input != \"y\":\n",
    "        print(\"aborting\")\n",
    "        break\n",
    "    for event in abot.graph.stream(None, thread):\n",
    "        for v in event.values():\n",
    "            print(v)"
   ]
  },
  {
   "cell_type": "code",
   "execution_count": 15,
   "metadata": {},
   "outputs": [
    {
     "name": "stdout",
     "output_type": "stream",
     "text": [
      "{'messages': [HumanMessage(content='Who has won the US elections of 2024?. Make a one liner about what should expect the U.S from this president', additional_kwargs={}, response_metadata={}, id='06eaefd2-7e05-4fa5-a42f-0b4d0f15c5d0'), AIMessage(content='', additional_kwargs={'tool_calls': [{'id': 'call_xT16i5FmEhMNbrOjuOUajFmX', 'function': {'arguments': '{\"query\":\"US election 2024 winner\"}', 'name': 'tavily_search_results_json'}, 'type': 'function'}], 'refusal': None}, response_metadata={'token_usage': {'completion_tokens': 23, 'prompt_tokens': 171, 'total_tokens': 194, 'completion_tokens_details': {'audio_tokens': 0, 'reasoning_tokens': 0, 'accepted_prediction_tokens': 0, 'rejected_prediction_tokens': 0}, 'prompt_tokens_details': {'audio_tokens': 0, 'cached_tokens': 0}}, 'model_name': 'gpt-3.5-turbo-0125', 'system_fingerprint': None, 'finish_reason': 'tool_calls', 'logprobs': None}, id='run-55b751ef-2cb8-4b11-b801-dde1b9e05a60-0', tool_calls=[{'name': 'tavily_search_results_json', 'args': {'query': 'US election 2024 winner'}, 'id': 'call_xT16i5FmEhMNbrOjuOUajFmX', 'type': 'tool_call'}], usage_metadata={'input_tokens': 171, 'output_tokens': 23, 'total_tokens': 194, 'input_token_details': {'audio': 0, 'cache_read': 0}, 'output_token_details': {'audio': 0, 'reasoning': 0}})]}\n",
      "{'messages': [AIMessage(content='', additional_kwargs={'tool_calls': [{'id': 'call_xT16i5FmEhMNbrOjuOUajFmX', 'function': {'arguments': '{\"query\":\"US election 2024 winner\"}', 'name': 'tavily_search_results_json'}, 'type': 'function'}], 'refusal': None}, response_metadata={'token_usage': {'completion_tokens': 23, 'prompt_tokens': 171, 'total_tokens': 194, 'completion_tokens_details': {'audio_tokens': 0, 'reasoning_tokens': 0, 'accepted_prediction_tokens': 0, 'rejected_prediction_tokens': 0}, 'prompt_tokens_details': {'audio_tokens': 0, 'cached_tokens': 0}}, 'model_name': 'gpt-3.5-turbo-0125', 'system_fingerprint': None, 'finish_reason': 'tool_calls', 'logprobs': None}, id='run-55b751ef-2cb8-4b11-b801-dde1b9e05a60-0', tool_calls=[{'name': 'tavily_search_results_json', 'args': {'query': 'US election 2024 winner'}, 'id': 'call_xT16i5FmEhMNbrOjuOUajFmX', 'type': 'tool_call'}], usage_metadata={'input_tokens': 171, 'output_tokens': 23, 'total_tokens': 194, 'input_token_details': {'audio': 0, 'cache_read': 0}, 'output_token_details': {'audio': 0, 'reasoning': 0}})]}\n",
      "()\n",
      "\n",
      " StateSnapshot(values={'messages': [HumanMessage(content='Who has won the US elections of 2024?. Make a one liner about what should expect the U.S from this president', additional_kwargs={}, response_metadata={}, id='06eaefd2-7e05-4fa5-a42f-0b4d0f15c5d0'), AIMessage(content='', additional_kwargs={'tool_calls': [{'id': 'call_xT16i5FmEhMNbrOjuOUajFmX', 'function': {'arguments': '{\"query\":\"US election 2024 winner\"}', 'name': 'tavily_search_results_json'}, 'type': 'function'}], 'refusal': None}, response_metadata={'token_usage': {'completion_tokens': 23, 'prompt_tokens': 171, 'total_tokens': 194, 'completion_tokens_details': {'audio_tokens': 0, 'reasoning_tokens': 0, 'accepted_prediction_tokens': 0, 'rejected_prediction_tokens': 0}, 'prompt_tokens_details': {'audio_tokens': 0, 'cached_tokens': 0}}, 'model_name': 'gpt-3.5-turbo-0125', 'system_fingerprint': None, 'finish_reason': 'tool_calls', 'logprobs': None}, id='run-55b751ef-2cb8-4b11-b801-dde1b9e05a60-0', tool_calls=[{'name': 'tavily_search_results_json', 'args': {'query': 'US election 2024 winner'}, 'id': 'call_xT16i5FmEhMNbrOjuOUajFmX', 'type': 'tool_call'}], usage_metadata={'input_tokens': 171, 'output_tokens': 23, 'total_tokens': 194, 'input_token_details': {'audio': 0, 'cache_read': 0}, 'output_token_details': {'audio': 0, 'reasoning': 0}})]}, next=('action',), config={'configurable': {'thread_id': '7', 'checkpoint_ns': '', 'checkpoint_id': '1efa3f8e-8279-6b96-8001-918b6fb981e8'}}, metadata={'source': 'loop', 'writes': {'llm': {'messages': [AIMessage(content='', additional_kwargs={'tool_calls': [{'id': 'call_xT16i5FmEhMNbrOjuOUajFmX', 'function': {'arguments': '{\"query\":\"US election 2024 winner\"}', 'name': 'tavily_search_results_json'}, 'type': 'function'}], 'refusal': None}, response_metadata={'token_usage': {'completion_tokens': 23, 'prompt_tokens': 171, 'total_tokens': 194, 'completion_tokens_details': {'audio_tokens': 0, 'reasoning_tokens': 0, 'accepted_prediction_tokens': 0, 'rejected_prediction_tokens': 0}, 'prompt_tokens_details': {'audio_tokens': 0, 'cached_tokens': 0}}, 'model_name': 'gpt-3.5-turbo-0125', 'system_fingerprint': None, 'finish_reason': 'tool_calls', 'logprobs': None}, id='run-55b751ef-2cb8-4b11-b801-dde1b9e05a60-0', tool_calls=[{'name': 'tavily_search_results_json', 'args': {'query': 'US election 2024 winner'}, 'id': 'call_xT16i5FmEhMNbrOjuOUajFmX', 'type': 'tool_call'}], usage_metadata={'input_tokens': 171, 'output_tokens': 23, 'total_tokens': 194, 'input_token_details': {'audio': 0, 'cache_read': 0}, 'output_token_details': {'audio': 0, 'reasoning': 0}})]}}, 'step': 1, 'parents': {}}, created_at='2024-11-16T08:58:11.390146+00:00', parent_config={'configurable': {'thread_id': '7', 'checkpoint_ns': '', 'checkpoint_id': '1efa3f8e-7aa5-6d92-8000-01a279c5e577'}}, tasks=(PregelTask(id='a05aaabc-f5f0-e6ee-0c9c-36db2816641e', name='action', path=('__pregel_pull', 'action'), error=None, interrupts=(), state=None, result=None),)) \n",
      "\n",
      "Calling: {'name': 'tavily_search_results_json', 'args': {'query': 'US election 2024 winner'}, 'id': 'call_xT16i5FmEhMNbrOjuOUajFmX', 'type': 'tool_call'}\n",
      "Back to the model!\n",
      "{'messages': [ToolMessage(content='[{\\'url\\': \\'https://www.cnn.com/election/2024/results/president\\', \\'content\\': \"Presidential election results 2024 | CNN Politics CNN10 About CNN Watch CNN CNN Harris is hoping to become the first woman elected president, while Trump is vying to become only the second former president to win a nonconsecutive second term after Grover Cleveland in 1892. Maine 4 Electoral Votes Harris 0Trump 0 Nebraska 5 Electoral Votes Harris 0Trump 0 What\\'s so important to note here is that Harris\\' best path to 270 electoral votes in pre-election polls ran through Michigan, Pennsylvania and Wisconsin. Dems may need to hold their seats in Ohio and Montana -- two states Trump won twice before -- along with MI, WI, PA, AZ, NV and MD to keep the Senate at 50-50 and hope Harris wins to give them control of the chamber. CNN10 About CNN\"}, {\\'url\\': \\'https://www.nytimes.com/2024/11/06/us/politics/trump-wins-presidency.html\\', \\'content\\': \"The 2024 election is the second time Mr. Trump has defeated a woman trying to break through the nation\\'s highest gender barrier — the presidency — after he prevailed over Hillary Clinton eight years ago.\"}]', name='tavily_search_results_json', id='8b862263-cfa1-47d8-9531-ed2dc39ddf24', tool_call_id='call_xT16i5FmEhMNbrOjuOUajFmX')]}\n",
      "{'messages': [HumanMessage(content='Who has won the US elections of 2024?. Make a one liner about what should expect the U.S from this president', additional_kwargs={}, response_metadata={}, id='06eaefd2-7e05-4fa5-a42f-0b4d0f15c5d0'), AIMessage(content='', additional_kwargs={'tool_calls': [{'id': 'call_xT16i5FmEhMNbrOjuOUajFmX', 'function': {'arguments': '{\"query\":\"US election 2024 winner\"}', 'name': 'tavily_search_results_json'}, 'type': 'function'}], 'refusal': None}, response_metadata={'token_usage': {'completion_tokens': 23, 'prompt_tokens': 171, 'total_tokens': 194, 'completion_tokens_details': {'audio_tokens': 0, 'reasoning_tokens': 0, 'accepted_prediction_tokens': 0, 'rejected_prediction_tokens': 0}, 'prompt_tokens_details': {'audio_tokens': 0, 'cached_tokens': 0}}, 'model_name': 'gpt-3.5-turbo-0125', 'system_fingerprint': None, 'finish_reason': 'tool_calls', 'logprobs': None}, id='run-55b751ef-2cb8-4b11-b801-dde1b9e05a60-0', tool_calls=[{'name': 'tavily_search_results_json', 'args': {'query': 'US election 2024 winner'}, 'id': 'call_xT16i5FmEhMNbrOjuOUajFmX', 'type': 'tool_call'}], usage_metadata={'input_tokens': 171, 'output_tokens': 23, 'total_tokens': 194, 'input_token_details': {'audio': 0, 'cache_read': 0}, 'output_token_details': {'audio': 0, 'reasoning': 0}}), ToolMessage(content='[{\\'url\\': \\'https://www.cnn.com/election/2024/results/president\\', \\'content\\': \"Presidential election results 2024 | CNN Politics CNN10 About CNN Watch CNN CNN Harris is hoping to become the first woman elected president, while Trump is vying to become only the second former president to win a nonconsecutive second term after Grover Cleveland in 1892. Maine 4 Electoral Votes Harris 0Trump 0 Nebraska 5 Electoral Votes Harris 0Trump 0 What\\'s so important to note here is that Harris\\' best path to 270 electoral votes in pre-election polls ran through Michigan, Pennsylvania and Wisconsin. Dems may need to hold their seats in Ohio and Montana -- two states Trump won twice before -- along with MI, WI, PA, AZ, NV and MD to keep the Senate at 50-50 and hope Harris wins to give them control of the chamber. CNN10 About CNN\"}, {\\'url\\': \\'https://www.nytimes.com/2024/11/06/us/politics/trump-wins-presidency.html\\', \\'content\\': \"The 2024 election is the second time Mr. Trump has defeated a woman trying to break through the nation\\'s highest gender barrier — the presidency — after he prevailed over Hillary Clinton eight years ago.\"}]', name='tavily_search_results_json', id='8b862263-cfa1-47d8-9531-ed2dc39ddf24', tool_call_id='call_xT16i5FmEhMNbrOjuOUajFmX'), AIMessage(content='In the US election of 2024, Donald Trump has won the presidency. The U.S can expect a continuation of his conservative policies and an emphasis on national security and economic growth during his term.', additional_kwargs={'refusal': None}, response_metadata={'token_usage': {'completion_tokens': 41, 'prompt_tokens': 470, 'total_tokens': 511, 'completion_tokens_details': {'audio_tokens': 0, 'reasoning_tokens': 0, 'accepted_prediction_tokens': 0, 'rejected_prediction_tokens': 0}, 'prompt_tokens_details': {'audio_tokens': 0, 'cached_tokens': 0}}, 'model_name': 'gpt-3.5-turbo-0125', 'system_fingerprint': None, 'finish_reason': 'stop', 'logprobs': None}, id='run-47093919-6b1c-41e7-aa2d-0670cbd0102c-0', usage_metadata={'input_tokens': 470, 'output_tokens': 41, 'total_tokens': 511, 'input_token_details': {'audio': 0, 'cache_read': 0}, 'output_token_details': {'audio': 0, 'reasoning': 0}})]}\n",
      "{'messages': [AIMessage(content='In the US election of 2024, Donald Trump has won the presidency. The U.S can expect a continuation of his conservative policies and an emphasis on national security and economic growth during his term.', additional_kwargs={'refusal': None}, response_metadata={'token_usage': {'completion_tokens': 41, 'prompt_tokens': 470, 'total_tokens': 511, 'completion_tokens_details': {'audio_tokens': 0, 'reasoning_tokens': 0, 'accepted_prediction_tokens': 0, 'rejected_prediction_tokens': 0}, 'prompt_tokens_details': {'audio_tokens': 0, 'cached_tokens': 0}}, 'model_name': 'gpt-3.5-turbo-0125', 'system_fingerprint': None, 'finish_reason': 'stop', 'logprobs': None}, id='run-47093919-6b1c-41e7-aa2d-0670cbd0102c-0', usage_metadata={'input_tokens': 470, 'output_tokens': 41, 'total_tokens': 511, 'input_token_details': {'audio': 0, 'cache_read': 0}, 'output_token_details': {'audio': 0, 'reasoning': 0}})]}\n"
     ]
    }
   ],
   "source": [
    "messages = [HumanMessage(\"Who has won the US elections of 2024?. Make a one liner about what should expect the U.S from this president\")]\n",
    "\n",
    "\n",
    "thread = {\"configurable\": {\"thread_id\": \"7\"}}\n",
    "\n",
    "for event in abot.graph.stream({\"messages\": messages}, thread):\n",
    "    for v in event.values():\n",
    "        print(v)\n",
    "while abot.graph.get_state(thread).next:\n",
    "    print(\"\\n\", abot.graph.get_state(thread),\"\\n\")\n",
    "    _input = input(\"proceed?\")\n",
    "    if _input != \"y\":\n",
    "        print(\"aborting\")\n",
    "        break\n",
    "    for event in abot.graph.stream(None, thread):\n",
    "        for v in event.values():\n",
    "            print(v)"
   ]
  },
  {
   "cell_type": "code",
   "execution_count": 16,
   "metadata": {},
   "outputs": [
    {
     "data": {
      "image/jpeg": "[encoded data removed]",
      "text/plain": [
       "<IPython.core.display.Image object>"
      ]
     },
     "metadata": {},
     "output_type": "display_data"
    }
   ],
   "source": [
    "from IPython.display import Image\n",
    "from langchain_core.runnables.graph import MermaidDrawMethod\n",
    "\n",
    "display(\n",
    "    Image(\n",
    "        abot.graph.get_graph().draw_mermaid_png(\n",
    "            draw_method=MermaidDrawMethod.API,\n",
    "        )\n",
    "    )\n",
    ")"
   ]
  },
  {
   "cell_type": "markdown",
   "metadata": {},
   "source": [
    "**- We could for instance try adding interrumpting (human-approval) to other nodes, like the `llm` one**"
   ]
  },
  {
   "cell_type": "markdown",
   "metadata": {},
   "source": [
    "##### BONUS NOTE: Modifying the state of the agent"
   ]
  },
  {
   "cell_type": "code",
   "execution_count": 17,
   "metadata": {},
   "outputs": [],
   "source": [
    "# next(abot.graph.get_state_history(thread))"
   ]
  },
  {
   "cell_type": "code",
   "execution_count": 91,
   "metadata": {},
   "outputs": [
    {
     "name": "stdout",
     "output_type": "stream",
     "text": [
      "{'messages': [HumanMessage(content='Whats the weather in LA?', additional_kwargs={}, response_metadata={}, id='82ce5597-89d0-42ac-80f6-e45d2b0c5353'), AIMessage(content='', additional_kwargs={'tool_calls': [{'id': 'call_Glcpm1hpVsMuedEKBG6vLlUB', 'function': {'arguments': '{\"query\":\"weather in Los Angeles\"}', 'name': 'tavily_search_results_json'}, 'type': 'function'}], 'refusal': None}, response_metadata={'token_usage': {'completion_tokens': 21, 'prompt_tokens': 152, 'total_tokens': 173, 'completion_tokens_details': {'audio_tokens': 0, 'reasoning_tokens': 0, 'accepted_prediction_tokens': 0, 'rejected_prediction_tokens': 0}, 'prompt_tokens_details': {'audio_tokens': 0, 'cached_tokens': 0}}, 'model_name': 'gpt-3.5-turbo-0125', 'system_fingerprint': None, 'finish_reason': 'tool_calls', 'logprobs': None}, id='run-4306fe76-b5bc-443c-a469-78d5fea6b099-0', tool_calls=[{'name': 'tavily_search_results_json', 'args': {'query': 'weather in Los Angeles'}, 'id': 'call_Glcpm1hpVsMuedEKBG6vLlUB', 'type': 'tool_call'}], usage_metadata={'input_tokens': 152, 'output_tokens': 21, 'total_tokens': 173, 'input_token_details': {'audio': 0, 'cache_read': 0}, 'output_token_details': {'audio': 0, 'reasoning': 0}})]}\n",
      "{'messages': [AIMessage(content='', additional_kwargs={'tool_calls': [{'id': 'call_Glcpm1hpVsMuedEKBG6vLlUB', 'function': {'arguments': '{\"query\":\"weather in Los Angeles\"}', 'name': 'tavily_search_results_json'}, 'type': 'function'}], 'refusal': None}, response_metadata={'token_usage': {'completion_tokens': 21, 'prompt_tokens': 152, 'total_tokens': 173, 'completion_tokens_details': {'audio_tokens': 0, 'reasoning_tokens': 0, 'accepted_prediction_tokens': 0, 'rejected_prediction_tokens': 0}, 'prompt_tokens_details': {'audio_tokens': 0, 'cached_tokens': 0}}, 'model_name': 'gpt-3.5-turbo-0125', 'system_fingerprint': None, 'finish_reason': 'tool_calls', 'logprobs': None}, id='run-4306fe76-b5bc-443c-a469-78d5fea6b099-0', tool_calls=[{'name': 'tavily_search_results_json', 'args': {'query': 'weather in Los Angeles'}, 'id': 'call_Glcpm1hpVsMuedEKBG6vLlUB', 'type': 'tool_call'}], usage_metadata={'input_tokens': 152, 'output_tokens': 21, 'total_tokens': 173, 'input_token_details': {'audio': 0, 'cache_read': 0}, 'output_token_details': {'audio': 0, 'reasoning': 0}})]}\n",
      "()\n"
     ]
    }
   ],
   "source": [
    "memory = stack.enter_context(SqliteSaver.from_conn_string(\":memory:\"))\n",
    "abot = Agent(model, [tool], system=prompt, checkpointer=memory)\n",
    "\n",
    "\n",
    "messages = [HumanMessage(\"Whats the weather in LA?\")]\n",
    "thread = {\"configurable\": {\"thread_id\": \"2\"}}\n",
    "for event in abot.graph.stream({\"messages\": messages}, thread):\n",
    "    for v in event.values():\n",
    "        print(v)\n",
    "        \n",
    "        \n",
    "        "
   ]
  },
  {
   "cell_type": "markdown",
   "metadata": {},
   "source": [
    "**We runned until the action interrumpt, and then, we modify the state**"
   ]
  },
  {
   "cell_type": "code",
   "execution_count": 92,
   "metadata": {},
   "outputs": [
    {
     "data": {
      "text/plain": [
       "StateSnapshot(values={'messages': [HumanMessage(content='Whats the weather in LA?', additional_kwargs={}, response_metadata={}, id='82ce5597-89d0-42ac-80f6-e45d2b0c5353'), AIMessage(content='', additional_kwargs={'tool_calls': [{'id': 'call_Glcpm1hpVsMuedEKBG6vLlUB', 'function': {'arguments': '{\"query\":\"weather in Los Angeles\"}', 'name': 'tavily_search_results_json'}, 'type': 'function'}], 'refusal': None}, response_metadata={'token_usage': {'completion_tokens': 21, 'prompt_tokens': 152, 'total_tokens': 173, 'completion_tokens_details': {'audio_tokens': 0, 'reasoning_tokens': 0, 'accepted_prediction_tokens': 0, 'rejected_prediction_tokens': 0}, 'prompt_tokens_details': {'audio_tokens': 0, 'cached_tokens': 0}}, 'model_name': 'gpt-3.5-turbo-0125', 'system_fingerprint': None, 'finish_reason': 'tool_calls', 'logprobs': None}, id='run-4306fe76-b5bc-443c-a469-78d5fea6b099-0', tool_calls=[{'name': 'tavily_search_results_json', 'args': {'query': 'weather in Los Angeles'}, 'id': 'call_Glcpm1hpVsMuedEKBG6vLlUB', 'type': 'tool_call'}], usage_metadata={'input_tokens': 152, 'output_tokens': 21, 'total_tokens': 173, 'input_token_details': {'audio': 0, 'cache_read': 0}, 'output_token_details': {'audio': 0, 'reasoning': 0}})]}, next=('action',), config={'configurable': {'thread_id': '2', 'checkpoint_ns': '', 'checkpoint_id': '1efa3fcd-bd5d-6747-8001-08c715846ab3'}}, metadata={'source': 'loop', 'writes': {'llm': {'messages': [AIMessage(content='', additional_kwargs={'tool_calls': [{'id': 'call_Glcpm1hpVsMuedEKBG6vLlUB', 'function': {'arguments': '{\"query\":\"weather in Los Angeles\"}', 'name': 'tavily_search_results_json'}, 'type': 'function'}], 'refusal': None}, response_metadata={'token_usage': {'completion_tokens': 21, 'prompt_tokens': 152, 'total_tokens': 173, 'completion_tokens_details': {'audio_tokens': 0, 'reasoning_tokens': 0, 'accepted_prediction_tokens': 0, 'rejected_prediction_tokens': 0}, 'prompt_tokens_details': {'audio_tokens': 0, 'cached_tokens': 0}}, 'model_name': 'gpt-3.5-turbo-0125', 'system_fingerprint': None, 'finish_reason': 'tool_calls', 'logprobs': None}, id='run-4306fe76-b5bc-443c-a469-78d5fea6b099-0', tool_calls=[{'name': 'tavily_search_results_json', 'args': {'query': 'weather in Los Angeles'}, 'id': 'call_Glcpm1hpVsMuedEKBG6vLlUB', 'type': 'tool_call'}], usage_metadata={'input_tokens': 152, 'output_tokens': 21, 'total_tokens': 173, 'input_token_details': {'audio': 0, 'cache_read': 0}, 'output_token_details': {'audio': 0, 'reasoning': 0}})]}}, 'step': 1, 'parents': {}}, created_at='2024-11-16T09:26:28.708538+00:00', parent_config={'configurable': {'thread_id': '2', 'checkpoint_ns': '', 'checkpoint_id': '1efa3fcd-b4df-67a3-8000-3a90cafeb4fc'}}, tasks=(PregelTask(id='0c936f9d-206f-2252-8ef7-7df0de0fc07c', name='action', path=('__pregel_pull', 'action'), error=None, interrupts=(), state=None, result=None),))"
      ]
     },
     "execution_count": 92,
     "metadata": {},
     "output_type": "execute_result"
    }
   ],
   "source": [
    "abot.graph.get_state(thread)"
   ]
  },
  {
   "cell_type": "code",
   "execution_count": 93,
   "metadata": {},
   "outputs": [],
   "source": [
    "current_values = abot.graph.get_state(thread)"
   ]
  },
  {
   "cell_type": "code",
   "execution_count": 94,
   "metadata": {},
   "outputs": [
    {
     "data": {
      "text/plain": [
       "AIMessage(content='', additional_kwargs={'tool_calls': [{'id': 'call_Glcpm1hpVsMuedEKBG6vLlUB', 'function': {'arguments': '{\"query\":\"weather in Los Angeles\"}', 'name': 'tavily_search_results_json'}, 'type': 'function'}], 'refusal': None}, response_metadata={'token_usage': {'completion_tokens': 21, 'prompt_tokens': 152, 'total_tokens': 173, 'completion_tokens_details': {'audio_tokens': 0, 'reasoning_tokens': 0, 'accepted_prediction_tokens': 0, 'rejected_prediction_tokens': 0}, 'prompt_tokens_details': {'audio_tokens': 0, 'cached_tokens': 0}}, 'model_name': 'gpt-3.5-turbo-0125', 'system_fingerprint': None, 'finish_reason': 'tool_calls', 'logprobs': None}, id='run-4306fe76-b5bc-443c-a469-78d5fea6b099-0', tool_calls=[{'name': 'tavily_search_results_json', 'args': {'query': 'weather in Los Angeles'}, 'id': 'call_Glcpm1hpVsMuedEKBG6vLlUB', 'type': 'tool_call'}], usage_metadata={'input_tokens': 152, 'output_tokens': 21, 'total_tokens': 173, 'input_token_details': {'audio': 0, 'cache_read': 0}, 'output_token_details': {'audio': 0, 'reasoning': 0}})"
      ]
     },
     "execution_count": 94,
     "metadata": {},
     "output_type": "execute_result"
    }
   ],
   "source": [
    "current_values.values['messages'][-1]"
   ]
  },
  {
   "cell_type": "code",
   "execution_count": 95,
   "metadata": {},
   "outputs": [
    {
     "data": {
      "text/plain": [
       "[{'name': 'tavily_search_results_json',\n",
       "  'args': {'query': 'weather in Los Angeles'},\n",
       "  'id': 'call_Glcpm1hpVsMuedEKBG6vLlUB',\n",
       "  'type': 'tool_call'}]"
      ]
     },
     "execution_count": 95,
     "metadata": {},
     "output_type": "execute_result"
    }
   ],
   "source": [
    "current_values.values['messages'][-1].tool_calls"
   ]
  },
  {
   "cell_type": "markdown",
   "metadata": {},
   "source": [
    "We'll be overriding the tool call it did in the lastest state, to be, also a `tavily search api call`, **but instead, to be a different query**"
   ]
  },
  {
   "cell_type": "code",
   "execution_count": 96,
   "metadata": {},
   "outputs": [],
   "source": [
    "_id = current_values.values['messages'][-1].tool_calls[0]['id']\n",
    "#we get the identifyer of this state so the graph know which one we're modyfing\n",
    "\n",
    "current_values.values['messages'][-1].tool_calls = [\n",
    "    {'name': 'tavily_search_results_json',\n",
    "  'args': {'query': 'current weather in Cordoba, Andalucia, Spain'},\n",
    "  'id': _id}\n",
    "]"
   ]
  },
  {
   "cell_type": "markdown",
   "metadata": {},
   "source": [
    "The changues will actually make effect when we run `update_state()` with the thread converstation identifyer, and the new list representing the last state"
   ]
  },
  {
   "cell_type": "code",
   "execution_count": 97,
   "metadata": {},
   "outputs": [
    {
     "name": "stdout",
     "output_type": "stream",
     "text": [
      "{'messages': [HumanMessage(content='Whats the weather in LA?', additional_kwargs={}, response_metadata={}, id='82ce5597-89d0-42ac-80f6-e45d2b0c5353'), AIMessage(content='', additional_kwargs={'tool_calls': [{'id': 'call_Glcpm1hpVsMuedEKBG6vLlUB', 'function': {'arguments': '{\"query\":\"weather in Los Angeles\"}', 'name': 'tavily_search_results_json'}, 'type': 'function'}], 'refusal': None}, response_metadata={'token_usage': {'completion_tokens': 21, 'prompt_tokens': 152, 'total_tokens': 173, 'completion_tokens_details': {'audio_tokens': 0, 'reasoning_tokens': 0, 'accepted_prediction_tokens': 0, 'rejected_prediction_tokens': 0}, 'prompt_tokens_details': {'audio_tokens': 0, 'cached_tokens': 0}}, 'model_name': 'gpt-3.5-turbo-0125', 'system_fingerprint': None, 'finish_reason': 'tool_calls', 'logprobs': None}, id='run-4306fe76-b5bc-443c-a469-78d5fea6b099-0', tool_calls=[{'name': 'tavily_search_results_json', 'args': {'query': 'current weather in Cordoba, Andalucia, Spain'}, 'id': 'call_Glcpm1hpVsMuedEKBG6vLlUB'}], usage_metadata={'input_tokens': 152, 'output_tokens': 21, 'total_tokens': 173, 'input_token_details': {'audio': 0, 'cache_read': 0}, 'output_token_details': {'audio': 0, 'reasoning': 0}})]}\n"
     ]
    },
    {
     "data": {
      "text/plain": [
       "{'configurable': {'thread_id': '2',\n",
       "  'checkpoint_ns': '',\n",
       "  'checkpoint_id': '1efa3fcd-d7fd-65a1-8002-449693e1e6e9'}}"
      ]
     },
     "execution_count": 97,
     "metadata": {},
     "output_type": "execute_result"
    }
   ],
   "source": [
    "abot.graph.update_state(thread, current_values.values)"
   ]
  },
  {
   "cell_type": "code",
   "execution_count": 98,
   "metadata": {},
   "outputs": [
    {
     "name": "stdout",
     "output_type": "stream",
     "text": [
      "content='Whats the weather in LA?' additional_kwargs={} response_metadata={} id='82ce5597-89d0-42ac-80f6-e45d2b0c5353'\n",
      "content='' additional_kwargs={'tool_calls': [{'id': 'call_Glcpm1hpVsMuedEKBG6vLlUB', 'function': {'arguments': '{\"query\":\"weather in Los Angeles\"}', 'name': 'tavily_search_results_json'}, 'type': 'function'}], 'refusal': None} response_metadata={'token_usage': {'completion_tokens': 21, 'prompt_tokens': 152, 'total_tokens': 173, 'completion_tokens_details': {'audio_tokens': 0, 'reasoning_tokens': 0, 'accepted_prediction_tokens': 0, 'rejected_prediction_tokens': 0}, 'prompt_tokens_details': {'audio_tokens': 0, 'cached_tokens': 0}}, 'model_name': 'gpt-3.5-turbo-0125', 'system_fingerprint': None, 'finish_reason': 'tool_calls', 'logprobs': None} id='run-4306fe76-b5bc-443c-a469-78d5fea6b099-0' tool_calls=[{'name': 'tavily_search_results_json', 'args': {'query': 'current weather in Cordoba, Andalucia, Spain'}, 'id': 'call_Glcpm1hpVsMuedEKBG6vLlUB', 'type': 'tool_call'}] usage_metadata={'input_tokens': 152, 'output_tokens': 21, 'total_tokens': 173, 'input_token_details': {'audio': 0, 'cache_read': 0}, 'output_token_details': {'audio': 0, 'reasoning': 0}}\n"
     ]
    }
   ],
   "source": [
    "for i in abot.graph.get_state(thread).values[\"messages\"]:\n",
    "    \n",
    "    print(i)"
   ]
  },
  {
   "cell_type": "code",
   "execution_count": 99,
   "metadata": {},
   "outputs": [
    {
     "data": {
      "text/plain": [
       "StateSnapshot(values={'messages': [HumanMessage(content='Whats the weather in LA?', additional_kwargs={}, response_metadata={}, id='82ce5597-89d0-42ac-80f6-e45d2b0c5353'), AIMessage(content='', additional_kwargs={'tool_calls': [{'id': 'call_Glcpm1hpVsMuedEKBG6vLlUB', 'function': {'arguments': '{\"query\":\"weather in Los Angeles\"}', 'name': 'tavily_search_results_json'}, 'type': 'function'}], 'refusal': None}, response_metadata={'token_usage': {'completion_tokens': 21, 'prompt_tokens': 152, 'total_tokens': 173, 'completion_tokens_details': {'audio_tokens': 0, 'reasoning_tokens': 0, 'accepted_prediction_tokens': 0, 'rejected_prediction_tokens': 0}, 'prompt_tokens_details': {'audio_tokens': 0, 'cached_tokens': 0}}, 'model_name': 'gpt-3.5-turbo-0125', 'system_fingerprint': None, 'finish_reason': 'tool_calls', 'logprobs': None}, id='run-4306fe76-b5bc-443c-a469-78d5fea6b099-0', tool_calls=[{'name': 'tavily_search_results_json', 'args': {'query': 'current weather in Cordoba, Andalucia, Spain'}, 'id': 'call_Glcpm1hpVsMuedEKBG6vLlUB', 'type': 'tool_call'}], usage_metadata={'input_tokens': 152, 'output_tokens': 21, 'total_tokens': 173, 'input_token_details': {'audio': 0, 'cache_read': 0}, 'output_token_details': {'audio': 0, 'reasoning': 0}})]}, next=('action',), config={'configurable': {'thread_id': '2', 'checkpoint_ns': '', 'checkpoint_id': '1efa3fcd-d7fd-65a1-8002-449693e1e6e9'}}, metadata={'source': 'update', 'step': 2, 'writes': {'llm': {'messages': [HumanMessage(content='Whats the weather in LA?', additional_kwargs={}, response_metadata={}, id='82ce5597-89d0-42ac-80f6-e45d2b0c5353'), AIMessage(content='', additional_kwargs={'tool_calls': [{'id': 'call_Glcpm1hpVsMuedEKBG6vLlUB', 'function': {'arguments': '{\"query\":\"weather in Los Angeles\"}', 'name': 'tavily_search_results_json'}, 'type': 'function'}], 'refusal': None}, response_metadata={'token_usage': {'completion_tokens': 21, 'prompt_tokens': 152, 'total_tokens': 173, 'completion_tokens_details': {'audio_tokens': 0, 'reasoning_tokens': 0, 'accepted_prediction_tokens': 0, 'rejected_prediction_tokens': 0}, 'prompt_tokens_details': {'audio_tokens': 0, 'cached_tokens': 0}}, 'model_name': 'gpt-3.5-turbo-0125', 'system_fingerprint': None, 'finish_reason': 'tool_calls', 'logprobs': None}, id='run-4306fe76-b5bc-443c-a469-78d5fea6b099-0', tool_calls=[{'name': 'tavily_search_results_json', 'args': {'query': 'current weather in Cordoba, Andalucia, Spain'}, 'id': 'call_Glcpm1hpVsMuedEKBG6vLlUB', 'type': 'tool_call'}], usage_metadata={'input_tokens': 152, 'output_tokens': 21, 'total_tokens': 173, 'input_token_details': {'audio': 0, 'cache_read': 0}, 'output_token_details': {'audio': 0, 'reasoning': 0}})]}}, 'parents': {}}, created_at='2024-11-16T09:26:31.500156+00:00', parent_config={'configurable': {'thread_id': '2', 'checkpoint_ns': '', 'checkpoint_id': '1efa3fcd-bd5d-6747-8001-08c715846ab3'}}, tasks=(PregelTask(id='21fa6c0d-e850-35c1-3fb2-5a4a96889e34', name='action', path=('__pregel_pull', 'action'), error=None, interrupts=(), state=None, result=None),))"
      ]
     },
     "execution_count": 99,
     "metadata": {},
     "output_type": "execute_result"
    }
   ],
   "source": [
    "abot.graph.get_state(thread)"
   ]
  },
  {
   "cell_type": "code",
   "execution_count": 100,
   "metadata": {},
   "outputs": [
    {
     "name": "stdout",
     "output_type": "stream",
     "text": [
      "Calling: {'name': 'tavily_search_results_json', 'args': {'query': 'current weather in Cordoba, Andalucia, Spain'}, 'id': 'call_Glcpm1hpVsMuedEKBG6vLlUB', 'type': 'tool_call'}\n",
      "Back to the model!\n",
      "{'messages': [ToolMessage(content='[{\\'url\\': \\'https://www.weatherapi.com/\\', \\'content\\': \"{\\'location\\': {\\'name\\': \\'Cordoba\\', \\'region\\': \\'Andalucia\\', \\'country\\': \\'Spain\\', \\'lat\\': 37.8833, \\'lon\\': -4.7667, \\'tz_id\\': \\'Europe/Madrid\\', \\'localtime_epoch\\': 1731748939, \\'localtime\\': \\'2024-11-16 10:22\\'}, \\'current\\': {\\'last_updated_epoch\\': 1731748500, \\'last_updated\\': \\'2024-11-16 10:15\\', \\'temp_c\\': 14.2, \\'temp_f\\': 57.6, \\'is_day\\': 1, \\'condition\\': {\\'text\\': \\'Partly cloudy\\', \\'icon\\': \\'//cdn.weatherapi.com/weather/64x64/day/116.png\\', \\'code\\': 1003}, \\'wind_mph\\': 6.5, \\'wind_kph\\': 10.4, \\'wind_degree\\': 64, \\'wind_dir\\': \\'ENE\\', \\'pressure_mb\\': 1018.0, \\'pressure_in\\': 30.06, \\'precip_mm\\': 0.0, \\'precip_in\\': 0.0, \\'humidity\\': 94, \\'cloud\\': 25, \\'feelslike_c\\': 13.6, \\'feelslike_f\\': 56.5, \\'windchill_c\\': 15.6, \\'windchill_f\\': 60.1, \\'heatindex_c\\': 15.6, \\'heatindex_f\\': 60.1, \\'dewpoint_c\\': 11.0, \\'dewpoint_f\\': 51.7, \\'vis_km\\': 10.0, \\'vis_miles\\': 6.0, \\'uv\\': 0.4, \\'gust_mph\\': 8.3, \\'gust_kph\\': 13.4}}\"}, {\\'url\\': \\'https://www.accuweather.com/en/es/cordoba/14008/hourly-weather-forecast/71953_pc\\', \\'content\\': \\'Hourly weather forecast in Cordoba, Andalusia, Spain. Check current conditions in Cordoba, Andalusia, Spain with radar, hourly, and more.\\'}]', name='tavily_search_results_json', id='5e3b1c2a-2c1e-4643-96b8-44c977a16945', tool_call_id='call_Glcpm1hpVsMuedEKBG6vLlUB')]}\n",
      "{'messages': [HumanMessage(content='Whats the weather in LA?', additional_kwargs={}, response_metadata={}, id='82ce5597-89d0-42ac-80f6-e45d2b0c5353'), AIMessage(content='', additional_kwargs={'tool_calls': [{'id': 'call_Glcpm1hpVsMuedEKBG6vLlUB', 'function': {'arguments': '{\"query\":\"weather in Los Angeles\"}', 'name': 'tavily_search_results_json'}, 'type': 'function'}], 'refusal': None}, response_metadata={'token_usage': {'completion_tokens': 21, 'prompt_tokens': 152, 'total_tokens': 173, 'completion_tokens_details': {'audio_tokens': 0, 'reasoning_tokens': 0, 'accepted_prediction_tokens': 0, 'rejected_prediction_tokens': 0}, 'prompt_tokens_details': {'audio_tokens': 0, 'cached_tokens': 0}}, 'model_name': 'gpt-3.5-turbo-0125', 'system_fingerprint': None, 'finish_reason': 'tool_calls', 'logprobs': None}, id='run-4306fe76-b5bc-443c-a469-78d5fea6b099-0', tool_calls=[{'name': 'tavily_search_results_json', 'args': {'query': 'current weather in Cordoba, Andalucia, Spain'}, 'id': 'call_Glcpm1hpVsMuedEKBG6vLlUB', 'type': 'tool_call'}], usage_metadata={'input_tokens': 152, 'output_tokens': 21, 'total_tokens': 173, 'input_token_details': {'audio': 0, 'cache_read': 0}, 'output_token_details': {'audio': 0, 'reasoning': 0}}), ToolMessage(content='[{\\'url\\': \\'https://www.weatherapi.com/\\', \\'content\\': \"{\\'location\\': {\\'name\\': \\'Cordoba\\', \\'region\\': \\'Andalucia\\', \\'country\\': \\'Spain\\', \\'lat\\': 37.8833, \\'lon\\': -4.7667, \\'tz_id\\': \\'Europe/Madrid\\', \\'localtime_epoch\\': 1731748939, \\'localtime\\': \\'2024-11-16 10:22\\'}, \\'current\\': {\\'last_updated_epoch\\': 1731748500, \\'last_updated\\': \\'2024-11-16 10:15\\', \\'temp_c\\': 14.2, \\'temp_f\\': 57.6, \\'is_day\\': 1, \\'condition\\': {\\'text\\': \\'Partly cloudy\\', \\'icon\\': \\'//cdn.weatherapi.com/weather/64x64/day/116.png\\', \\'code\\': 1003}, \\'wind_mph\\': 6.5, \\'wind_kph\\': 10.4, \\'wind_degree\\': 64, \\'wind_dir\\': \\'ENE\\', \\'pressure_mb\\': 1018.0, \\'pressure_in\\': 30.06, \\'precip_mm\\': 0.0, \\'precip_in\\': 0.0, \\'humidity\\': 94, \\'cloud\\': 25, \\'feelslike_c\\': 13.6, \\'feelslike_f\\': 56.5, \\'windchill_c\\': 15.6, \\'windchill_f\\': 60.1, \\'heatindex_c\\': 15.6, \\'heatindex_f\\': 60.1, \\'dewpoint_c\\': 11.0, \\'dewpoint_f\\': 51.7, \\'vis_km\\': 10.0, \\'vis_miles\\': 6.0, \\'uv\\': 0.4, \\'gust_mph\\': 8.3, \\'gust_kph\\': 13.4}}\"}, {\\'url\\': \\'https://www.accuweather.com/en/es/cordoba/14008/hourly-weather-forecast/71953_pc\\', \\'content\\': \\'Hourly weather forecast in Cordoba, Andalusia, Spain. Check current conditions in Cordoba, Andalusia, Spain with radar, hourly, and more.\\'}]', name='tavily_search_results_json', id='5e3b1c2a-2c1e-4643-96b8-44c977a16945', tool_call_id='call_Glcpm1hpVsMuedEKBG6vLlUB'), AIMessage(content='I retrieved information about the current weather in Cordoba, Andalucia, Spain. The temperature is 14.2°C (57.6°F) with partly cloudy conditions and a wind speed of 10.4 kph.', additional_kwargs={'refusal': None}, response_metadata={'token_usage': {'completion_tokens': 49, 'prompt_tokens': 672, 'total_tokens': 721, 'completion_tokens_details': {'audio_tokens': 0, 'reasoning_tokens': 0, 'accepted_prediction_tokens': 0, 'rejected_prediction_tokens': 0}, 'prompt_tokens_details': {'audio_tokens': 0, 'cached_tokens': 0}}, 'model_name': 'gpt-3.5-turbo-0125', 'system_fingerprint': None, 'finish_reason': 'stop', 'logprobs': None}, id='run-aa1c40aa-829b-4f96-9251-fbf342b31f59-0', usage_metadata={'input_tokens': 672, 'output_tokens': 49, 'total_tokens': 721, 'input_token_details': {'audio': 0, 'cache_read': 0}, 'output_token_details': {'audio': 0, 'reasoning': 0}})]}\n",
      "{'messages': [AIMessage(content='I retrieved information about the current weather in Cordoba, Andalucia, Spain. The temperature is 14.2°C (57.6°F) with partly cloudy conditions and a wind speed of 10.4 kph.', additional_kwargs={'refusal': None}, response_metadata={'token_usage': {'completion_tokens': 49, 'prompt_tokens': 672, 'total_tokens': 721, 'completion_tokens_details': {'audio_tokens': 0, 'reasoning_tokens': 0, 'accepted_prediction_tokens': 0, 'rejected_prediction_tokens': 0}, 'prompt_tokens_details': {'audio_tokens': 0, 'cached_tokens': 0}}, 'model_name': 'gpt-3.5-turbo-0125', 'system_fingerprint': None, 'finish_reason': 'stop', 'logprobs': None}, id='run-aa1c40aa-829b-4f96-9251-fbf342b31f59-0', usage_metadata={'input_tokens': 672, 'output_tokens': 49, 'total_tokens': 721, 'input_token_details': {'audio': 0, 'cache_read': 0}, 'output_token_details': {'audio': 0, 'reasoning': 0}})]}\n"
     ]
    }
   ],
   "source": [
    "for event in abot.graph.stream(None, thread):\n",
    "    for v in event.values():\n",
    "        print(v)"
   ]
  },
  {
   "cell_type": "markdown",
   "metadata": {},
   "source": [
    "We have know seen how we can modify states, whereas we can notice that those modified states are actually creating a **new state** to be runned once we get the graph running from where it stopped.\n",
    "\n",
    "This allow us to access to all the previous states, (included the overriden ones), this is called `time travel`"
   ]
  },
  {
   "cell_type": "code",
   "execution_count": 101,
   "metadata": {},
   "outputs": [
    {
     "name": "stdout",
     "output_type": "stream",
     "text": [
      "StateSnapshot(values={'messages': [HumanMessage(content='Whats the weather in LA?', additional_kwargs={}, response_metadata={}, id='82ce5597-89d0-42ac-80f6-e45d2b0c5353'), AIMessage(content='', additional_kwargs={'tool_calls': [{'id': 'call_Glcpm1hpVsMuedEKBG6vLlUB', 'function': {'arguments': '{\"query\":\"weather in Los Angeles\"}', 'name': 'tavily_search_results_json'}, 'type': 'function'}], 'refusal': None}, response_metadata={'token_usage': {'completion_tokens': 21, 'prompt_tokens': 152, 'total_tokens': 173, 'completion_tokens_details': {'audio_tokens': 0, 'reasoning_tokens': 0, 'accepted_prediction_tokens': 0, 'rejected_prediction_tokens': 0}, 'prompt_tokens_details': {'audio_tokens': 0, 'cached_tokens': 0}}, 'model_name': 'gpt-3.5-turbo-0125', 'system_fingerprint': None, 'finish_reason': 'tool_calls', 'logprobs': None}, id='run-4306fe76-b5bc-443c-a469-78d5fea6b099-0', tool_calls=[{'name': 'tavily_search_results_json', 'args': {'query': 'current weather in Cordoba, Andalucia, Spain'}, 'id': 'call_Glcpm1hpVsMuedEKBG6vLlUB', 'type': 'tool_call'}], usage_metadata={'input_tokens': 152, 'output_tokens': 21, 'total_tokens': 173, 'input_token_details': {'audio': 0, 'cache_read': 0}, 'output_token_details': {'audio': 0, 'reasoning': 0}}), ToolMessage(content='[{\\'url\\': \\'https://www.weatherapi.com/\\', \\'content\\': \"{\\'location\\': {\\'name\\': \\'Cordoba\\', \\'region\\': \\'Andalucia\\', \\'country\\': \\'Spain\\', \\'lat\\': 37.8833, \\'lon\\': -4.7667, \\'tz_id\\': \\'Europe/Madrid\\', \\'localtime_epoch\\': 1731748939, \\'localtime\\': \\'2024-11-16 10:22\\'}, \\'current\\': {\\'last_updated_epoch\\': 1731748500, \\'last_updated\\': \\'2024-11-16 10:15\\', \\'temp_c\\': 14.2, \\'temp_f\\': 57.6, \\'is_day\\': 1, \\'condition\\': {\\'text\\': \\'Partly cloudy\\', \\'icon\\': \\'//cdn.weatherapi.com/weather/64x64/day/116.png\\', \\'code\\': 1003}, \\'wind_mph\\': 6.5, \\'wind_kph\\': 10.4, \\'wind_degree\\': 64, \\'wind_dir\\': \\'ENE\\', \\'pressure_mb\\': 1018.0, \\'pressure_in\\': 30.06, \\'precip_mm\\': 0.0, \\'precip_in\\': 0.0, \\'humidity\\': 94, \\'cloud\\': 25, \\'feelslike_c\\': 13.6, \\'feelslike_f\\': 56.5, \\'windchill_c\\': 15.6, \\'windchill_f\\': 60.1, \\'heatindex_c\\': 15.6, \\'heatindex_f\\': 60.1, \\'dewpoint_c\\': 11.0, \\'dewpoint_f\\': 51.7, \\'vis_km\\': 10.0, \\'vis_miles\\': 6.0, \\'uv\\': 0.4, \\'gust_mph\\': 8.3, \\'gust_kph\\': 13.4}}\"}, {\\'url\\': \\'https://www.accuweather.com/en/es/cordoba/14008/hourly-weather-forecast/71953_pc\\', \\'content\\': \\'Hourly weather forecast in Cordoba, Andalusia, Spain. Check current conditions in Cordoba, Andalusia, Spain with radar, hourly, and more.\\'}]', name='tavily_search_results_json', id='5e3b1c2a-2c1e-4643-96b8-44c977a16945', tool_call_id='call_Glcpm1hpVsMuedEKBG6vLlUB'), AIMessage(content='I retrieved information about the current weather in Cordoba, Andalucia, Spain. The temperature is 14.2°C (57.6°F) with partly cloudy conditions and a wind speed of 10.4 kph.', additional_kwargs={'refusal': None}, response_metadata={'token_usage': {'completion_tokens': 49, 'prompt_tokens': 672, 'total_tokens': 721, 'completion_tokens_details': {'audio_tokens': 0, 'reasoning_tokens': 0, 'accepted_prediction_tokens': 0, 'rejected_prediction_tokens': 0}, 'prompt_tokens_details': {'audio_tokens': 0, 'cached_tokens': 0}}, 'model_name': 'gpt-3.5-turbo-0125', 'system_fingerprint': None, 'finish_reason': 'stop', 'logprobs': None}, id='run-aa1c40aa-829b-4f96-9251-fbf342b31f59-0', usage_metadata={'input_tokens': 672, 'output_tokens': 49, 'total_tokens': 721, 'input_token_details': {'audio': 0, 'cache_read': 0}, 'output_token_details': {'audio': 0, 'reasoning': 0}})]}, next=(), config={'configurable': {'thread_id': '2', 'checkpoint_ns': '', 'checkpoint_id': '1efa3fce-0e16-6b68-8004-365afe0c05e5'}}, metadata={'source': 'loop', 'writes': {'llm': {'messages': [AIMessage(content='I retrieved information about the current weather in Cordoba, Andalucia, Spain. The temperature is 14.2°C (57.6°F) with partly cloudy conditions and a wind speed of 10.4 kph.', additional_kwargs={'refusal': None}, response_metadata={'token_usage': {'completion_tokens': 49, 'prompt_tokens': 672, 'total_tokens': 721, 'completion_tokens_details': {'audio_tokens': 0, 'reasoning_tokens': 0, 'accepted_prediction_tokens': 0, 'rejected_prediction_tokens': 0}, 'prompt_tokens_details': {'audio_tokens': 0, 'cached_tokens': 0}}, 'model_name': 'gpt-3.5-turbo-0125', 'system_fingerprint': None, 'finish_reason': 'stop', 'logprobs': None}, id='run-aa1c40aa-829b-4f96-9251-fbf342b31f59-0', usage_metadata={'input_tokens': 672, 'output_tokens': 49, 'total_tokens': 721, 'input_token_details': {'audio': 0, 'cache_read': 0}, 'output_token_details': {'audio': 0, 'reasoning': 0}})]}}, 'step': 4, 'parents': {}}, created_at='2024-11-16T09:26:37.173028+00:00', parent_config={'configurable': {'thread_id': '2', 'checkpoint_ns': '', 'checkpoint_id': '1efa3fce-0120-6045-8003-daf890dffef8'}}, tasks=())\n",
      "---\n",
      "StateSnapshot(values={'messages': [HumanMessage(content='Whats the weather in LA?', additional_kwargs={}, response_metadata={}, id='82ce5597-89d0-42ac-80f6-e45d2b0c5353'), AIMessage(content='', additional_kwargs={'tool_calls': [{'id': 'call_Glcpm1hpVsMuedEKBG6vLlUB', 'function': {'arguments': '{\"query\":\"weather in Los Angeles\"}', 'name': 'tavily_search_results_json'}, 'type': 'function'}], 'refusal': None}, response_metadata={'token_usage': {'completion_tokens': 21, 'prompt_tokens': 152, 'total_tokens': 173, 'completion_tokens_details': {'audio_tokens': 0, 'reasoning_tokens': 0, 'accepted_prediction_tokens': 0, 'rejected_prediction_tokens': 0}, 'prompt_tokens_details': {'audio_tokens': 0, 'cached_tokens': 0}}, 'model_name': 'gpt-3.5-turbo-0125', 'system_fingerprint': None, 'finish_reason': 'tool_calls', 'logprobs': None}, id='run-4306fe76-b5bc-443c-a469-78d5fea6b099-0', tool_calls=[{'name': 'tavily_search_results_json', 'args': {'query': 'current weather in Cordoba, Andalucia, Spain'}, 'id': 'call_Glcpm1hpVsMuedEKBG6vLlUB', 'type': 'tool_call'}], usage_metadata={'input_tokens': 152, 'output_tokens': 21, 'total_tokens': 173, 'input_token_details': {'audio': 0, 'cache_read': 0}, 'output_token_details': {'audio': 0, 'reasoning': 0}}), ToolMessage(content='[{\\'url\\': \\'https://www.weatherapi.com/\\', \\'content\\': \"{\\'location\\': {\\'name\\': \\'Cordoba\\', \\'region\\': \\'Andalucia\\', \\'country\\': \\'Spain\\', \\'lat\\': 37.8833, \\'lon\\': -4.7667, \\'tz_id\\': \\'Europe/Madrid\\', \\'localtime_epoch\\': 1731748939, \\'localtime\\': \\'2024-11-16 10:22\\'}, \\'current\\': {\\'last_updated_epoch\\': 1731748500, \\'last_updated\\': \\'2024-11-16 10:15\\', \\'temp_c\\': 14.2, \\'temp_f\\': 57.6, \\'is_day\\': 1, \\'condition\\': {\\'text\\': \\'Partly cloudy\\', \\'icon\\': \\'//cdn.weatherapi.com/weather/64x64/day/116.png\\', \\'code\\': 1003}, \\'wind_mph\\': 6.5, \\'wind_kph\\': 10.4, \\'wind_degree\\': 64, \\'wind_dir\\': \\'ENE\\', \\'pressure_mb\\': 1018.0, \\'pressure_in\\': 30.06, \\'precip_mm\\': 0.0, \\'precip_in\\': 0.0, \\'humidity\\': 94, \\'cloud\\': 25, \\'feelslike_c\\': 13.6, \\'feelslike_f\\': 56.5, \\'windchill_c\\': 15.6, \\'windchill_f\\': 60.1, \\'heatindex_c\\': 15.6, \\'heatindex_f\\': 60.1, \\'dewpoint_c\\': 11.0, \\'dewpoint_f\\': 51.7, \\'vis_km\\': 10.0, \\'vis_miles\\': 6.0, \\'uv\\': 0.4, \\'gust_mph\\': 8.3, \\'gust_kph\\': 13.4}}\"}, {\\'url\\': \\'https://www.accuweather.com/en/es/cordoba/14008/hourly-weather-forecast/71953_pc\\', \\'content\\': \\'Hourly weather forecast in Cordoba, Andalusia, Spain. Check current conditions in Cordoba, Andalusia, Spain with radar, hourly, and more.\\'}]', name='tavily_search_results_json', id='5e3b1c2a-2c1e-4643-96b8-44c977a16945', tool_call_id='call_Glcpm1hpVsMuedEKBG6vLlUB')]}, next=('llm',), config={'configurable': {'thread_id': '2', 'checkpoint_ns': '', 'checkpoint_id': '1efa3fce-0120-6045-8003-daf890dffef8'}}, metadata={'source': 'loop', 'writes': {'action': {'messages': [ToolMessage(content='[{\\'url\\': \\'https://www.weatherapi.com/\\', \\'content\\': \"{\\'location\\': {\\'name\\': \\'Cordoba\\', \\'region\\': \\'Andalucia\\', \\'country\\': \\'Spain\\', \\'lat\\': 37.8833, \\'lon\\': -4.7667, \\'tz_id\\': \\'Europe/Madrid\\', \\'localtime_epoch\\': 1731748939, \\'localtime\\': \\'2024-11-16 10:22\\'}, \\'current\\': {\\'last_updated_epoch\\': 1731748500, \\'last_updated\\': \\'2024-11-16 10:15\\', \\'temp_c\\': 14.2, \\'temp_f\\': 57.6, \\'is_day\\': 1, \\'condition\\': {\\'text\\': \\'Partly cloudy\\', \\'icon\\': \\'//cdn.weatherapi.com/weather/64x64/day/116.png\\', \\'code\\': 1003}, \\'wind_mph\\': 6.5, \\'wind_kph\\': 10.4, \\'wind_degree\\': 64, \\'wind_dir\\': \\'ENE\\', \\'pressure_mb\\': 1018.0, \\'pressure_in\\': 30.06, \\'precip_mm\\': 0.0, \\'precip_in\\': 0.0, \\'humidity\\': 94, \\'cloud\\': 25, \\'feelslike_c\\': 13.6, \\'feelslike_f\\': 56.5, \\'windchill_c\\': 15.6, \\'windchill_f\\': 60.1, \\'heatindex_c\\': 15.6, \\'heatindex_f\\': 60.1, \\'dewpoint_c\\': 11.0, \\'dewpoint_f\\': 51.7, \\'vis_km\\': 10.0, \\'vis_miles\\': 6.0, \\'uv\\': 0.4, \\'gust_mph\\': 8.3, \\'gust_kph\\': 13.4}}\"}, {\\'url\\': \\'https://www.accuweather.com/en/es/cordoba/14008/hourly-weather-forecast/71953_pc\\', \\'content\\': \\'Hourly weather forecast in Cordoba, Andalusia, Spain. Check current conditions in Cordoba, Andalusia, Spain with radar, hourly, and more.\\'}]', name='tavily_search_results_json', id='5e3b1c2a-2c1e-4643-96b8-44c977a16945', tool_call_id='call_Glcpm1hpVsMuedEKBG6vLlUB')]}}, 'step': 3, 'parents': {}}, created_at='2024-11-16T09:26:35.813690+00:00', parent_config={'configurable': {'thread_id': '2', 'checkpoint_ns': '', 'checkpoint_id': '1efa3fcd-d7fd-65a1-8002-449693e1e6e9'}}, tasks=(PregelTask(id='462bc4cb-9a2f-2223-1521-e9b29658561f', name='llm', path=('__pregel_pull', 'llm'), error=None, interrupts=(), state=None, result={'messages': [AIMessage(content='I retrieved information about the current weather in Cordoba, Andalucia, Spain. The temperature is 14.2°C (57.6°F) with partly cloudy conditions and a wind speed of 10.4 kph.', additional_kwargs={'refusal': None}, response_metadata={'token_usage': {'completion_tokens': 49, 'prompt_tokens': 672, 'total_tokens': 721, 'completion_tokens_details': {'audio_tokens': 0, 'reasoning_tokens': 0, 'accepted_prediction_tokens': 0, 'rejected_prediction_tokens': 0}, 'prompt_tokens_details': {'audio_tokens': 0, 'cached_tokens': 0}}, 'model_name': 'gpt-3.5-turbo-0125', 'system_fingerprint': None, 'finish_reason': 'stop', 'logprobs': None}, id='run-aa1c40aa-829b-4f96-9251-fbf342b31f59-0', usage_metadata={'input_tokens': 672, 'output_tokens': 49, 'total_tokens': 721, 'input_token_details': {'audio': 0, 'cache_read': 0}, 'output_token_details': {'audio': 0, 'reasoning': 0}})]}),))\n",
      "---\n",
      "StateSnapshot(values={'messages': [HumanMessage(content='Whats the weather in LA?', additional_kwargs={}, response_metadata={}, id='82ce5597-89d0-42ac-80f6-e45d2b0c5353'), AIMessage(content='', additional_kwargs={'tool_calls': [{'id': 'call_Glcpm1hpVsMuedEKBG6vLlUB', 'function': {'arguments': '{\"query\":\"weather in Los Angeles\"}', 'name': 'tavily_search_results_json'}, 'type': 'function'}], 'refusal': None}, response_metadata={'token_usage': {'completion_tokens': 21, 'prompt_tokens': 152, 'total_tokens': 173, 'completion_tokens_details': {'audio_tokens': 0, 'reasoning_tokens': 0, 'accepted_prediction_tokens': 0, 'rejected_prediction_tokens': 0}, 'prompt_tokens_details': {'audio_tokens': 0, 'cached_tokens': 0}}, 'model_name': 'gpt-3.5-turbo-0125', 'system_fingerprint': None, 'finish_reason': 'tool_calls', 'logprobs': None}, id='run-4306fe76-b5bc-443c-a469-78d5fea6b099-0', tool_calls=[{'name': 'tavily_search_results_json', 'args': {'query': 'current weather in Cordoba, Andalucia, Spain'}, 'id': 'call_Glcpm1hpVsMuedEKBG6vLlUB', 'type': 'tool_call'}], usage_metadata={'input_tokens': 152, 'output_tokens': 21, 'total_tokens': 173, 'input_token_details': {'audio': 0, 'cache_read': 0}, 'output_token_details': {'audio': 0, 'reasoning': 0}})]}, next=('action',), config={'configurable': {'thread_id': '2', 'checkpoint_ns': '', 'checkpoint_id': '1efa3fcd-d7fd-65a1-8002-449693e1e6e9'}}, metadata={'source': 'update', 'step': 2, 'writes': {'llm': {'messages': [HumanMessage(content='Whats the weather in LA?', additional_kwargs={}, response_metadata={}, id='82ce5597-89d0-42ac-80f6-e45d2b0c5353'), AIMessage(content='', additional_kwargs={'tool_calls': [{'id': 'call_Glcpm1hpVsMuedEKBG6vLlUB', 'function': {'arguments': '{\"query\":\"weather in Los Angeles\"}', 'name': 'tavily_search_results_json'}, 'type': 'function'}], 'refusal': None}, response_metadata={'token_usage': {'completion_tokens': 21, 'prompt_tokens': 152, 'total_tokens': 173, 'completion_tokens_details': {'audio_tokens': 0, 'reasoning_tokens': 0, 'accepted_prediction_tokens': 0, 'rejected_prediction_tokens': 0}, 'prompt_tokens_details': {'audio_tokens': 0, 'cached_tokens': 0}}, 'model_name': 'gpt-3.5-turbo-0125', 'system_fingerprint': None, 'finish_reason': 'tool_calls', 'logprobs': None}, id='run-4306fe76-b5bc-443c-a469-78d5fea6b099-0', tool_calls=[{'name': 'tavily_search_results_json', 'args': {'query': 'current weather in Cordoba, Andalucia, Spain'}, 'id': 'call_Glcpm1hpVsMuedEKBG6vLlUB', 'type': 'tool_call'}], usage_metadata={'input_tokens': 152, 'output_tokens': 21, 'total_tokens': 173, 'input_token_details': {'audio': 0, 'cache_read': 0}, 'output_token_details': {'audio': 0, 'reasoning': 0}})]}}, 'parents': {}}, created_at='2024-11-16T09:26:31.500156+00:00', parent_config={'configurable': {'thread_id': '2', 'checkpoint_ns': '', 'checkpoint_id': '1efa3fcd-bd5d-6747-8001-08c715846ab3'}}, tasks=(PregelTask(id='21fa6c0d-e850-35c1-3fb2-5a4a96889e34', name='action', path=('__pregel_pull', 'action'), error=None, interrupts=(), state=None, result={'messages': [ToolMessage(content='[{\\'url\\': \\'https://www.weatherapi.com/\\', \\'content\\': \"{\\'location\\': {\\'name\\': \\'Cordoba\\', \\'region\\': \\'Andalucia\\', \\'country\\': \\'Spain\\', \\'lat\\': 37.8833, \\'lon\\': -4.7667, \\'tz_id\\': \\'Europe/Madrid\\', \\'localtime_epoch\\': 1731748939, \\'localtime\\': \\'2024-11-16 10:22\\'}, \\'current\\': {\\'last_updated_epoch\\': 1731748500, \\'last_updated\\': \\'2024-11-16 10:15\\', \\'temp_c\\': 14.2, \\'temp_f\\': 57.6, \\'is_day\\': 1, \\'condition\\': {\\'text\\': \\'Partly cloudy\\', \\'icon\\': \\'//cdn.weatherapi.com/weather/64x64/day/116.png\\', \\'code\\': 1003}, \\'wind_mph\\': 6.5, \\'wind_kph\\': 10.4, \\'wind_degree\\': 64, \\'wind_dir\\': \\'ENE\\', \\'pressure_mb\\': 1018.0, \\'pressure_in\\': 30.06, \\'precip_mm\\': 0.0, \\'precip_in\\': 0.0, \\'humidity\\': 94, \\'cloud\\': 25, \\'feelslike_c\\': 13.6, \\'feelslike_f\\': 56.5, \\'windchill_c\\': 15.6, \\'windchill_f\\': 60.1, \\'heatindex_c\\': 15.6, \\'heatindex_f\\': 60.1, \\'dewpoint_c\\': 11.0, \\'dewpoint_f\\': 51.7, \\'vis_km\\': 10.0, \\'vis_miles\\': 6.0, \\'uv\\': 0.4, \\'gust_mph\\': 8.3, \\'gust_kph\\': 13.4}}\"}, {\\'url\\': \\'https://www.accuweather.com/en/es/cordoba/14008/hourly-weather-forecast/71953_pc\\', \\'content\\': \\'Hourly weather forecast in Cordoba, Andalusia, Spain. Check current conditions in Cordoba, Andalusia, Spain with radar, hourly, and more.\\'}]', name='tavily_search_results_json', tool_call_id='call_Glcpm1hpVsMuedEKBG6vLlUB')]}),))\n",
      "---\n",
      "StateSnapshot(values={'messages': [HumanMessage(content='Whats the weather in LA?', additional_kwargs={}, response_metadata={}, id='82ce5597-89d0-42ac-80f6-e45d2b0c5353'), AIMessage(content='', additional_kwargs={'tool_calls': [{'id': 'call_Glcpm1hpVsMuedEKBG6vLlUB', 'function': {'arguments': '{\"query\":\"weather in Los Angeles\"}', 'name': 'tavily_search_results_json'}, 'type': 'function'}], 'refusal': None}, response_metadata={'token_usage': {'completion_tokens': 21, 'prompt_tokens': 152, 'total_tokens': 173, 'completion_tokens_details': {'audio_tokens': 0, 'reasoning_tokens': 0, 'accepted_prediction_tokens': 0, 'rejected_prediction_tokens': 0}, 'prompt_tokens_details': {'audio_tokens': 0, 'cached_tokens': 0}}, 'model_name': 'gpt-3.5-turbo-0125', 'system_fingerprint': None, 'finish_reason': 'tool_calls', 'logprobs': None}, id='run-4306fe76-b5bc-443c-a469-78d5fea6b099-0', tool_calls=[{'name': 'tavily_search_results_json', 'args': {'query': 'weather in Los Angeles'}, 'id': 'call_Glcpm1hpVsMuedEKBG6vLlUB', 'type': 'tool_call'}], usage_metadata={'input_tokens': 152, 'output_tokens': 21, 'total_tokens': 173, 'input_token_details': {'audio': 0, 'cache_read': 0}, 'output_token_details': {'audio': 0, 'reasoning': 0}})]}, next=('action',), config={'configurable': {'thread_id': '2', 'checkpoint_ns': '', 'checkpoint_id': '1efa3fcd-bd5d-6747-8001-08c715846ab3'}}, metadata={'source': 'loop', 'writes': {'llm': {'messages': [AIMessage(content='', additional_kwargs={'tool_calls': [{'id': 'call_Glcpm1hpVsMuedEKBG6vLlUB', 'function': {'arguments': '{\"query\":\"weather in Los Angeles\"}', 'name': 'tavily_search_results_json'}, 'type': 'function'}], 'refusal': None}, response_metadata={'token_usage': {'completion_tokens': 21, 'prompt_tokens': 152, 'total_tokens': 173, 'completion_tokens_details': {'audio_tokens': 0, 'reasoning_tokens': 0, 'accepted_prediction_tokens': 0, 'rejected_prediction_tokens': 0}, 'prompt_tokens_details': {'audio_tokens': 0, 'cached_tokens': 0}}, 'model_name': 'gpt-3.5-turbo-0125', 'system_fingerprint': None, 'finish_reason': 'tool_calls', 'logprobs': None}, id='run-4306fe76-b5bc-443c-a469-78d5fea6b099-0', tool_calls=[{'name': 'tavily_search_results_json', 'args': {'query': 'weather in Los Angeles'}, 'id': 'call_Glcpm1hpVsMuedEKBG6vLlUB', 'type': 'tool_call'}], usage_metadata={'input_tokens': 152, 'output_tokens': 21, 'total_tokens': 173, 'input_token_details': {'audio': 0, 'cache_read': 0}, 'output_token_details': {'audio': 0, 'reasoning': 0}})]}}, 'step': 1, 'parents': {}}, created_at='2024-11-16T09:26:28.708538+00:00', parent_config={'configurable': {'thread_id': '2', 'checkpoint_ns': '', 'checkpoint_id': '1efa3fcd-b4df-67a3-8000-3a90cafeb4fc'}}, tasks=(PregelTask(id='0c936f9d-206f-2252-8ef7-7df0de0fc07c', name='action', path=('__pregel_pull', 'action'), error=None, interrupts=(), state=None, result=None),))\n",
      "---\n",
      "StateSnapshot(values={'messages': [HumanMessage(content='Whats the weather in LA?', additional_kwargs={}, response_metadata={}, id='82ce5597-89d0-42ac-80f6-e45d2b0c5353')]}, next=('llm',), config={'configurable': {'thread_id': '2', 'checkpoint_ns': '', 'checkpoint_id': '1efa3fcd-b4df-67a3-8000-3a90cafeb4fc'}}, metadata={'source': 'loop', 'writes': None, 'step': 0, 'parents': {}}, created_at='2024-11-16T09:26:27.818076+00:00', parent_config={'configurable': {'thread_id': '2', 'checkpoint_ns': '', 'checkpoint_id': '1efa3fcd-b4df-67a2-bfff-50670d3b6b77'}}, tasks=(PregelTask(id='8db6c7b8-5bdc-d652-7a5f-920e57aff537', name='llm', path=('__pregel_pull', 'llm'), error=None, interrupts=(), state=None, result={'messages': [AIMessage(content='', additional_kwargs={'tool_calls': [{'id': 'call_Glcpm1hpVsMuedEKBG6vLlUB', 'function': {'arguments': '{\"query\":\"weather in Los Angeles\"}', 'name': 'tavily_search_results_json'}, 'type': 'function'}], 'refusal': None}, response_metadata={'token_usage': {'completion_tokens': 21, 'prompt_tokens': 152, 'total_tokens': 173, 'completion_tokens_details': {'audio_tokens': 0, 'reasoning_tokens': 0, 'accepted_prediction_tokens': 0, 'rejected_prediction_tokens': 0}, 'prompt_tokens_details': {'audio_tokens': 0, 'cached_tokens': 0}}, 'model_name': 'gpt-3.5-turbo-0125', 'system_fingerprint': None, 'finish_reason': 'tool_calls', 'logprobs': None}, id='run-4306fe76-b5bc-443c-a469-78d5fea6b099-0', tool_calls=[{'name': 'tavily_search_results_json', 'args': {'query': 'weather in Los Angeles'}, 'id': 'call_Glcpm1hpVsMuedEKBG6vLlUB', 'type': 'tool_call'}], usage_metadata={'input_tokens': 152, 'output_tokens': 21, 'total_tokens': 173, 'input_token_details': {'audio': 0, 'cache_read': 0}, 'output_token_details': {'audio': 0, 'reasoning': 0}})]}),))\n",
      "---\n",
      "StateSnapshot(values={'messages': []}, next=('__start__',), config={'configurable': {'thread_id': '2', 'checkpoint_ns': '', 'checkpoint_id': '1efa3fcd-b4df-67a2-bfff-50670d3b6b77'}}, metadata={'source': 'input', 'writes': {'__start__': {'messages': [HumanMessage(content='Whats the weather in LA?', additional_kwargs={}, response_metadata={})]}}, 'step': -1, 'parents': {}}, created_at='2024-11-16T09:26:27.818076+00:00', parent_config=None, tasks=(PregelTask(id='06952351-9836-6d56-284e-12d7dd063c43', name='__start__', path=('__pregel_pull', '__start__'), error=None, interrupts=(), state=None, result={'messages': [HumanMessage(content='Whats the weather in LA?', additional_kwargs={}, response_metadata={})]}),))\n",
      "---\n"
     ]
    }
   ],
   "source": [
    "states = []\n",
    "\n",
    "for state in abot.graph.get_state_history(thread):\n",
    "    \n",
    "    print(state)\n",
    "    \n",
    "    print(\"---\")\n",
    "    \n",
    "    states.append(state)"
   ]
  },
  {
   "cell_type": "markdown",
   "metadata": {},
   "source": [
    "**Update note:** To fetch the same state as was filmed, the offset below is changed to `-3` from `-1`. This accounts for the initial state `__start__` and the first state that are now stored to state memory with the latest version of software."
   ]
  },
  {
   "cell_type": "code",
   "execution_count": 106,
   "metadata": {},
   "outputs": [],
   "source": [
    "to_replay = states[-3] # to_replay = states[-1]"
   ]
  },
  {
   "cell_type": "code",
   "execution_count": 107,
   "metadata": {},
   "outputs": [
    {
     "data": {
      "text/plain": [
       "StateSnapshot(values={'messages': [HumanMessage(content='Whats the weather in LA?', additional_kwargs={}, response_metadata={}, id='82ce5597-89d0-42ac-80f6-e45d2b0c5353'), AIMessage(content='', additional_kwargs={'tool_calls': [{'id': 'call_Glcpm1hpVsMuedEKBG6vLlUB', 'function': {'arguments': '{\"query\":\"weather in Los Angeles\"}', 'name': 'tavily_search_results_json'}, 'type': 'function'}], 'refusal': None}, response_metadata={'token_usage': {'completion_tokens': 21, 'prompt_tokens': 152, 'total_tokens': 173, 'completion_tokens_details': {'audio_tokens': 0, 'reasoning_tokens': 0, 'accepted_prediction_tokens': 0, 'rejected_prediction_tokens': 0}, 'prompt_tokens_details': {'audio_tokens': 0, 'cached_tokens': 0}}, 'model_name': 'gpt-3.5-turbo-0125', 'system_fingerprint': None, 'finish_reason': 'tool_calls', 'logprobs': None}, id='run-4306fe76-b5bc-443c-a469-78d5fea6b099-0', tool_calls=[{'name': 'tavily_search_results_json', 'args': {'query': 'weather in Los Angeles'}, 'id': 'call_Glcpm1hpVsMuedEKBG6vLlUB', 'type': 'tool_call'}], usage_metadata={'input_tokens': 152, 'output_tokens': 21, 'total_tokens': 173, 'input_token_details': {'audio': 0, 'cache_read': 0}, 'output_token_details': {'audio': 0, 'reasoning': 0}})]}, next=('action',), config={'configurable': {'thread_id': '2', 'checkpoint_ns': '', 'checkpoint_id': '1efa3fcd-bd5d-6747-8001-08c715846ab3'}}, metadata={'source': 'loop', 'writes': {'llm': {'messages': [AIMessage(content='', additional_kwargs={'tool_calls': [{'id': 'call_Glcpm1hpVsMuedEKBG6vLlUB', 'function': {'arguments': '{\"query\":\"weather in Los Angeles\"}', 'name': 'tavily_search_results_json'}, 'type': 'function'}], 'refusal': None}, response_metadata={'token_usage': {'completion_tokens': 21, 'prompt_tokens': 152, 'total_tokens': 173, 'completion_tokens_details': {'audio_tokens': 0, 'reasoning_tokens': 0, 'accepted_prediction_tokens': 0, 'rejected_prediction_tokens': 0}, 'prompt_tokens_details': {'audio_tokens': 0, 'cached_tokens': 0}}, 'model_name': 'gpt-3.5-turbo-0125', 'system_fingerprint': None, 'finish_reason': 'tool_calls', 'logprobs': None}, id='run-4306fe76-b5bc-443c-a469-78d5fea6b099-0', tool_calls=[{'name': 'tavily_search_results_json', 'args': {'query': 'weather in Los Angeles'}, 'id': 'call_Glcpm1hpVsMuedEKBG6vLlUB', 'type': 'tool_call'}], usage_metadata={'input_tokens': 152, 'output_tokens': 21, 'total_tokens': 173, 'input_token_details': {'audio': 0, 'cache_read': 0}, 'output_token_details': {'audio': 0, 'reasoning': 0}})]}}, 'step': 1, 'parents': {}}, created_at='2024-11-16T09:26:28.708538+00:00', parent_config={'configurable': {'thread_id': '2', 'checkpoint_ns': '', 'checkpoint_id': '1efa3fcd-b4df-67a3-8000-3a90cafeb4fc'}}, tasks=(PregelTask(id='0c936f9d-206f-2252-8ef7-7df0de0fc07c', name='action', path=('__pregel_pull', 'action'), error=None, interrupts=(), state=None, result=None),))"
      ]
     },
     "execution_count": 107,
     "metadata": {},
     "output_type": "execute_result"
    }
   ],
   "source": [
    "to_replay"
   ]
  },
  {
   "cell_type": "markdown",
   "metadata": {},
   "source": [
    "We see that the last stored `state` was the earliest/original one that the llm did to call tavily search with the `weather in LA`\n",
    "\n",
    "In case we want to resume from this checkpoint where it was `looking for LA`, we easily can\n",
    "\n",
    "- We just run `stream()` again passing \n",
    "```python\n",
    "abot.graph.stream(None, to_replay.config)"
   ]
  },
  {
   "cell_type": "code",
   "execution_count": null,
   "metadata": {},
   "outputs": [
    {
     "name": "stdout",
     "output_type": "stream",
     "text": [
      "Calling: {'name': 'tavily_search_results_json', 'args': {'query': 'weather in Los Angeles'}, 'id': 'call_Glcpm1hpVsMuedEKBG6vLlUB', 'type': 'tool_call'}\n",
      "Back to the model!\n",
      "{'messages': [ToolMessage(content='[{\\'url\\': \\'https://www.weatherapi.com/\\', \\'content\\': \"{\\'location\\': {\\'name\\': \\'Los Angeles\\', \\'region\\': \\'California\\', \\'country\\': \\'United States of America\\', \\'lat\\': 34.0522, \\'lon\\': -118.2428, \\'tz_id\\': \\'America/Los_Angeles\\', \\'localtime_epoch\\': 1731754081, \\'localtime\\': \\'2024-11-16 02:48\\'}, \\'current\\': {\\'last_updated_epoch\\': 1731753900, \\'last_updated\\': \\'2024-11-16 02:45\\', \\'temp_c\\': 10.6, \\'temp_f\\': 51.1, \\'is_day\\': 0, \\'condition\\': {\\'text\\': \\'Clear\\', \\'icon\\': \\'//cdn.weatherapi.com/weather/64x64/night/113.png\\', \\'code\\': 1000}, \\'wind_mph\\': 8.5, \\'wind_kph\\': 13.7, \\'wind_degree\\': 346, \\'wind_dir\\': \\'NNW\\', \\'pressure_mb\\': 1013.0, \\'pressure_in\\': 29.9, \\'precip_mm\\': 0.0, \\'precip_in\\': 0.0, \\'humidity\\': 61, \\'cloud\\': 0, \\'feelslike_c\\': 8.8, \\'feelslike_f\\': 47.9, \\'windchill_c\\': 9.2, \\'windchill_f\\': 48.5, \\'heatindex_c\\': 10.2, \\'heatindex_f\\': 50.4, \\'dewpoint_c\\': 1.2, \\'dewpoint_f\\': 34.2, \\'vis_km\\': 16.0, \\'vis_miles\\': 9.0, \\'uv\\': 0.0, \\'gust_mph\\': 11.5, \\'gust_kph\\': 18.5}}\"}, {\\'url\\': \\'https://www.weathertab.com/en/long-range-weather/e/11/16/united-states/california/los-angeles/\\', \\'content\\': \\'Los Angeles, CA Weather Forecast for November 16, 2024 Los Angeles Weather Forecast for November 16, 2024 If rain (or snow) does fall in the month, expect most of it to fall on the high and moderate risk days, but try and avoid planning weather sensitive tasks on Transition days.25%Forecast risk of rain/snow.Forecast Details:Low risk of rain/snow.25% Forecast risk of rain/snow.36% of days in the period have higher riskNo buffer from the closest risky periodTemperature Forecast: Warmer Than NormalHigh Temperature Forecast 71 to 81 °FLow Temperature Forecast 44 to 54 °FHigh Temperature Forecast 21 to 27 °CLow Temperature Forecast 6 to 12 °C(adsbygoogle = window.adsbygoogle || []).push({});Sun Times:Dawn 5:59 AMSunrise 6:26 AMSolar Noon 11:37 AMSunset 4:48 PMDusk 5:14 PMMoon Times:Moonset 7:31 AMMoonrise 5:23 PMMoon Phase:Moon: 100%Waning Gibbous\\'}]', name='tavily_search_results_json', id='d8d40390-07ee-45fb-94b9-155d8d0caaf2', tool_call_id='call_Glcpm1hpVsMuedEKBG6vLlUB')]}\n",
      "{'messages': [HumanMessage(content='Whats the weather in LA?', additional_kwargs={}, response_metadata={}, id='82ce5597-89d0-42ac-80f6-e45d2b0c5353'), AIMessage(content='', additional_kwargs={'tool_calls': [{'id': 'call_Glcpm1hpVsMuedEKBG6vLlUB', 'function': {'arguments': '{\"query\":\"weather in Los Angeles\"}', 'name': 'tavily_search_results_json'}, 'type': 'function'}], 'refusal': None}, response_metadata={'token_usage': {'completion_tokens': 21, 'prompt_tokens': 152, 'total_tokens': 173, 'completion_tokens_details': {'audio_tokens': 0, 'reasoning_tokens': 0, 'accepted_prediction_tokens': 0, 'rejected_prediction_tokens': 0}, 'prompt_tokens_details': {'audio_tokens': 0, 'cached_tokens': 0}}, 'model_name': 'gpt-3.5-turbo-0125', 'system_fingerprint': None, 'finish_reason': 'tool_calls', 'logprobs': None}, id='run-4306fe76-b5bc-443c-a469-78d5fea6b099-0', tool_calls=[{'name': 'tavily_search_results_json', 'args': {'query': 'weather in Los Angeles'}, 'id': 'call_Glcpm1hpVsMuedEKBG6vLlUB', 'type': 'tool_call'}], usage_metadata={'input_tokens': 152, 'output_tokens': 21, 'total_tokens': 173, 'input_token_details': {'audio': 0, 'cache_read': 0}, 'output_token_details': {'audio': 0, 'reasoning': 0}}), ToolMessage(content='[{\\'url\\': \\'https://www.weatherapi.com/\\', \\'content\\': \"{\\'location\\': {\\'name\\': \\'Los Angeles\\', \\'region\\': \\'California\\', \\'country\\': \\'United States of America\\', \\'lat\\': 34.0522, \\'lon\\': -118.2428, \\'tz_id\\': \\'America/Los_Angeles\\', \\'localtime_epoch\\': 1731754081, \\'localtime\\': \\'2024-11-16 02:48\\'}, \\'current\\': {\\'last_updated_epoch\\': 1731753900, \\'last_updated\\': \\'2024-11-16 02:45\\', \\'temp_c\\': 10.6, \\'temp_f\\': 51.1, \\'is_day\\': 0, \\'condition\\': {\\'text\\': \\'Clear\\', \\'icon\\': \\'//cdn.weatherapi.com/weather/64x64/night/113.png\\', \\'code\\': 1000}, \\'wind_mph\\': 8.5, \\'wind_kph\\': 13.7, \\'wind_degree\\': 346, \\'wind_dir\\': \\'NNW\\', \\'pressure_mb\\': 1013.0, \\'pressure_in\\': 29.9, \\'precip_mm\\': 0.0, \\'precip_in\\': 0.0, \\'humidity\\': 61, \\'cloud\\': 0, \\'feelslike_c\\': 8.8, \\'feelslike_f\\': 47.9, \\'windchill_c\\': 9.2, \\'windchill_f\\': 48.5, \\'heatindex_c\\': 10.2, \\'heatindex_f\\': 50.4, \\'dewpoint_c\\': 1.2, \\'dewpoint_f\\': 34.2, \\'vis_km\\': 16.0, \\'vis_miles\\': 9.0, \\'uv\\': 0.0, \\'gust_mph\\': 11.5, \\'gust_kph\\': 18.5}}\"}, {\\'url\\': \\'https://www.weathertab.com/en/long-range-weather/e/11/16/united-states/california/los-angeles/\\', \\'content\\': \\'Los Angeles, CA Weather Forecast for November 16, 2024 Los Angeles Weather Forecast for November 16, 2024 If rain (or snow) does fall in the month, expect most of it to fall on the high and moderate risk days, but try and avoid planning weather sensitive tasks on Transition days.25%Forecast risk of rain/snow.Forecast Details:Low risk of rain/snow.25% Forecast risk of rain/snow.36% of days in the period have higher riskNo buffer from the closest risky periodTemperature Forecast: Warmer Than NormalHigh Temperature Forecast 71 to 81 °FLow Temperature Forecast 44 to 54 °FHigh Temperature Forecast 21 to 27 °CLow Temperature Forecast 6 to 12 °C(adsbygoogle = window.adsbygoogle || []).push({});Sun Times:Dawn 5:59 AMSunrise 6:26 AMSolar Noon 11:37 AMSunset 4:48 PMDusk 5:14 PMMoon Times:Moonset 7:31 AMMoonrise 5:23 PMMoon Phase:Moon: 100%Waning Gibbous\\'}]', name='tavily_search_results_json', id='d8d40390-07ee-45fb-94b9-155d8d0caaf2', tool_call_id='call_Glcpm1hpVsMuedEKBG6vLlUB'), AIMessage(content='The current weather in Los Angeles is clear with a temperature of 51.1°F (10.6°C). The wind is coming from the NNW direction at 13.7 kph. The humidity is at 61%, and there is no precipitation at the moment.', additional_kwargs={'refusal': None}, response_metadata={'token_usage': {'completion_tokens': 57, 'prompt_tokens': 871, 'total_tokens': 928, 'completion_tokens_details': {'audio_tokens': 0, 'reasoning_tokens': 0, 'accepted_prediction_tokens': 0, 'rejected_prediction_tokens': 0}, 'prompt_tokens_details': {'audio_tokens': 0, 'cached_tokens': 0}}, 'model_name': 'gpt-3.5-turbo-0125', 'system_fingerprint': None, 'finish_reason': 'stop', 'logprobs': None}, id='run-7c54b9ec-a387-4791-9069-6e595e661e69-0', usage_metadata={'input_tokens': 871, 'output_tokens': 57, 'total_tokens': 928, 'input_token_details': {'audio': 0, 'cache_read': 0}, 'output_token_details': {'audio': 0, 'reasoning': 0}})]}\n",
      "{'messages': [AIMessage(content='The current weather in Los Angeles is clear with a temperature of 51.1°F (10.6°C). The wind is coming from the NNW direction at 13.7 kph. The humidity is at 61%, and there is no precipitation at the moment.', additional_kwargs={'refusal': None}, response_metadata={'token_usage': {'completion_tokens': 57, 'prompt_tokens': 871, 'total_tokens': 928, 'completion_tokens_details': {'audio_tokens': 0, 'reasoning_tokens': 0, 'accepted_prediction_tokens': 0, 'rejected_prediction_tokens': 0}, 'prompt_tokens_details': {'audio_tokens': 0, 'cached_tokens': 0}}, 'model_name': 'gpt-3.5-turbo-0125', 'system_fingerprint': None, 'finish_reason': 'stop', 'logprobs': None}, id='run-7c54b9ec-a387-4791-9069-6e595e661e69-0', usage_metadata={'input_tokens': 871, 'output_tokens': 57, 'total_tokens': 928, 'input_token_details': {'audio': 0, 'cache_read': 0}, 'output_token_details': {'audio': 0, 'reasoning': 0}})]}\n"
     ]
    }
   ],
   "source": [
    "for event in abot.graph.stream(None, to_replay.config):\n",
    "    for k, v in event.items():\n",
    "        print(v)"
   ]
  },
  {
   "cell_type": "markdown",
   "metadata": {},
   "source": [
    "##### BONUS NOTE: Go back in time and edit"
   ]
  },
  {
   "cell_type": "code",
   "execution_count": 110,
   "metadata": {},
   "outputs": [
    {
     "data": {
      "text/plain": [
       "StateSnapshot(values={'messages': [HumanMessage(content='Whats the weather in LA?', additional_kwargs={}, response_metadata={}, id='82ce5597-89d0-42ac-80f6-e45d2b0c5353'), AIMessage(content='', additional_kwargs={'tool_calls': [{'id': 'call_Glcpm1hpVsMuedEKBG6vLlUB', 'function': {'arguments': '{\"query\":\"weather in Los Angeles\"}', 'name': 'tavily_search_results_json'}, 'type': 'function'}], 'refusal': None}, response_metadata={'token_usage': {'completion_tokens': 21, 'prompt_tokens': 152, 'total_tokens': 173, 'completion_tokens_details': {'audio_tokens': 0, 'reasoning_tokens': 0, 'accepted_prediction_tokens': 0, 'rejected_prediction_tokens': 0}, 'prompt_tokens_details': {'audio_tokens': 0, 'cached_tokens': 0}}, 'model_name': 'gpt-3.5-turbo-0125', 'system_fingerprint': None, 'finish_reason': 'tool_calls', 'logprobs': None}, id='run-4306fe76-b5bc-443c-a469-78d5fea6b099-0', tool_calls=[{'name': 'tavily_search_results_json', 'args': {'query': 'weather in Los Angeles'}, 'id': 'call_Glcpm1hpVsMuedEKBG6vLlUB', 'type': 'tool_call'}], usage_metadata={'input_tokens': 152, 'output_tokens': 21, 'total_tokens': 173, 'input_token_details': {'audio': 0, 'cache_read': 0}, 'output_token_details': {'audio': 0, 'reasoning': 0}})]}, next=('action',), config={'configurable': {'thread_id': '2', 'checkpoint_ns': '', 'checkpoint_id': '1efa3fcd-bd5d-6747-8001-08c715846ab3'}}, metadata={'source': 'loop', 'writes': {'llm': {'messages': [AIMessage(content='', additional_kwargs={'tool_calls': [{'id': 'call_Glcpm1hpVsMuedEKBG6vLlUB', 'function': {'arguments': '{\"query\":\"weather in Los Angeles\"}', 'name': 'tavily_search_results_json'}, 'type': 'function'}], 'refusal': None}, response_metadata={'token_usage': {'completion_tokens': 21, 'prompt_tokens': 152, 'total_tokens': 173, 'completion_tokens_details': {'audio_tokens': 0, 'reasoning_tokens': 0, 'accepted_prediction_tokens': 0, 'rejected_prediction_tokens': 0}, 'prompt_tokens_details': {'audio_tokens': 0, 'cached_tokens': 0}}, 'model_name': 'gpt-3.5-turbo-0125', 'system_fingerprint': None, 'finish_reason': 'tool_calls', 'logprobs': None}, id='run-4306fe76-b5bc-443c-a469-78d5fea6b099-0', tool_calls=[{'name': 'tavily_search_results_json', 'args': {'query': 'weather in Los Angeles'}, 'id': 'call_Glcpm1hpVsMuedEKBG6vLlUB', 'type': 'tool_call'}], usage_metadata={'input_tokens': 152, 'output_tokens': 21, 'total_tokens': 173, 'input_token_details': {'audio': 0, 'cache_read': 0}, 'output_token_details': {'audio': 0, 'reasoning': 0}})]}}, 'step': 1, 'parents': {}}, created_at='2024-11-16T09:26:28.708538+00:00', parent_config={'configurable': {'thread_id': '2', 'checkpoint_ns': '', 'checkpoint_id': '1efa3fcd-b4df-67a3-8000-3a90cafeb4fc'}}, tasks=(PregelTask(id='0c936f9d-206f-2252-8ef7-7df0de0fc07c', name='action', path=('__pregel_pull', 'action'), error=None, interrupts=(), state=None, result=None),))"
      ]
     },
     "execution_count": 110,
     "metadata": {},
     "output_type": "execute_result"
    }
   ],
   "source": [
    "to_replay"
   ]
  },
  {
   "cell_type": "markdown",
   "metadata": {},
   "source": [
    "This is different from before, because instead of editing the last state in the graph, we went back in time with `state_history()` and then we edited"
   ]
  },
  {
   "cell_type": "code",
   "execution_count": null,
   "metadata": {},
   "outputs": [],
   "source": [
    "_id = to_replay.values['messages'][-1].tool_calls[0]['id']\n",
    "\n",
    "to_replay.values['messages'][-1].tool_calls = [{'name': 'tavily_search_results_json',\n",
    "  'args': {'query': 'current weather in LA, accuweather'},\n",
    "  'id': _id}]"
   ]
  },
  {
   "cell_type": "code",
   "execution_count": 112,
   "metadata": {},
   "outputs": [
    {
     "name": "stdout",
     "output_type": "stream",
     "text": [
      "{'messages': [HumanMessage(content='Whats the weather in LA?', additional_kwargs={}, response_metadata={}, id='82ce5597-89d0-42ac-80f6-e45d2b0c5353'), AIMessage(content='', additional_kwargs={'tool_calls': [{'id': 'call_Glcpm1hpVsMuedEKBG6vLlUB', 'function': {'arguments': '{\"query\":\"weather in Los Angeles\"}', 'name': 'tavily_search_results_json'}, 'type': 'function'}], 'refusal': None}, response_metadata={'token_usage': {'completion_tokens': 21, 'prompt_tokens': 152, 'total_tokens': 173, 'completion_tokens_details': {'audio_tokens': 0, 'reasoning_tokens': 0, 'accepted_prediction_tokens': 0, 'rejected_prediction_tokens': 0}, 'prompt_tokens_details': {'audio_tokens': 0, 'cached_tokens': 0}}, 'model_name': 'gpt-3.5-turbo-0125', 'system_fingerprint': None, 'finish_reason': 'tool_calls', 'logprobs': None}, id='run-4306fe76-b5bc-443c-a469-78d5fea6b099-0', tool_calls=[{'name': 'tavily_search_results_json', 'args': {'query': 'current weather in LA, accuweather'}, 'id': 'call_Glcpm1hpVsMuedEKBG6vLlUB'}], usage_metadata={'input_tokens': 152, 'output_tokens': 21, 'total_tokens': 173, 'input_token_details': {'audio': 0, 'cache_read': 0}, 'output_token_details': {'audio': 0, 'reasoning': 0}})]}\n"
     ]
    }
   ],
   "source": [
    "branch_state = abot.graph.update_state(to_replay.config, to_replay.values)\n",
    "\n",
    "#we then update this specific state"
   ]
  },
  {
   "cell_type": "code",
   "execution_count": 113,
   "metadata": {},
   "outputs": [
    {
     "name": "stdout",
     "output_type": "stream",
     "text": [
      "Calling: {'name': 'tavily_search_results_json', 'args': {'query': 'current weather in LA, accuweather'}, 'id': 'call_Glcpm1hpVsMuedEKBG6vLlUB', 'type': 'tool_call'}\n",
      "Back to the model!\n",
      "{'messages': [ToolMessage(content='[{\\'url\\': \\'https://www.weatherapi.com/\\', \\'content\\': \"{\\'location\\': {\\'name\\': \\'Los Angeles\\', \\'region\\': \\'California\\', \\'country\\': \\'United States of America\\', \\'lat\\': 34.0522, \\'lon\\': -118.2428, \\'tz_id\\': \\'America/Los_Angeles\\', \\'localtime_epoch\\': 1731756102, \\'localtime\\': \\'2024-11-16 03:21\\'}, \\'current\\': {\\'last_updated_epoch\\': 1731755700, \\'last_updated\\': \\'2024-11-16 03:15\\', \\'temp_c\\': 10.2, \\'temp_f\\': 50.4, \\'is_day\\': 0, \\'condition\\': {\\'text\\': \\'Clear\\', \\'icon\\': \\'//cdn.weatherapi.com/weather/64x64/night/113.png\\', \\'code\\': 1000}, \\'wind_mph\\': 7.4, \\'wind_kph\\': 11.9, \\'wind_degree\\': 344, \\'wind_dir\\': \\'NNW\\', \\'pressure_mb\\': 1013.0, \\'pressure_in\\': 29.9, \\'precip_mm\\': 0.0, \\'precip_in\\': 0.0, \\'humidity\\': 61, \\'cloud\\': 0, \\'feelslike_c\\': 8.6, \\'feelslike_f\\': 47.4, \\'windchill_c\\': 8.8, \\'windchill_f\\': 47.9, \\'heatindex_c\\': 9.8, \\'heatindex_f\\': 49.7, \\'dewpoint_c\\': 1.1, \\'dewpoint_f\\': 33.9, \\'vis_km\\': 16.0, \\'vis_miles\\': 9.0, \\'uv\\': 0.0, \\'gust_mph\\': 10.1, \\'gust_kph\\': 16.3}}\"}, {\\'url\\': \\'https://www.accuweather.com/en/us/los-angeles/90012/current-weather/347625\\', \\'content\\': \\'Current weather in Los Angeles, CA. Check current conditions in Los Angeles, CA with radar, hourly, and more.\\'}]', name='tavily_search_results_json', id='e666ec4c-6835-4d94-949f-cbb1c00b34c0', tool_call_id='call_Glcpm1hpVsMuedEKBG6vLlUB')]}\n",
      "{'messages': [HumanMessage(content='Whats the weather in LA?', additional_kwargs={}, response_metadata={}, id='82ce5597-89d0-42ac-80f6-e45d2b0c5353'), AIMessage(content='', additional_kwargs={'tool_calls': [{'id': 'call_Glcpm1hpVsMuedEKBG6vLlUB', 'function': {'arguments': '{\"query\":\"weather in Los Angeles\"}', 'name': 'tavily_search_results_json'}, 'type': 'function'}], 'refusal': None}, response_metadata={'token_usage': {'completion_tokens': 21, 'prompt_tokens': 152, 'total_tokens': 173, 'completion_tokens_details': {'audio_tokens': 0, 'reasoning_tokens': 0, 'accepted_prediction_tokens': 0, 'rejected_prediction_tokens': 0}, 'prompt_tokens_details': {'audio_tokens': 0, 'cached_tokens': 0}}, 'model_name': 'gpt-3.5-turbo-0125', 'system_fingerprint': None, 'finish_reason': 'tool_calls', 'logprobs': None}, id='run-4306fe76-b5bc-443c-a469-78d5fea6b099-0', tool_calls=[{'name': 'tavily_search_results_json', 'args': {'query': 'current weather in LA, accuweather'}, 'id': 'call_Glcpm1hpVsMuedEKBG6vLlUB', 'type': 'tool_call'}], usage_metadata={'input_tokens': 152, 'output_tokens': 21, 'total_tokens': 173, 'input_token_details': {'audio': 0, 'cache_read': 0}, 'output_token_details': {'audio': 0, 'reasoning': 0}}), ToolMessage(content='[{\\'url\\': \\'https://www.weatherapi.com/\\', \\'content\\': \"{\\'location\\': {\\'name\\': \\'Los Angeles\\', \\'region\\': \\'California\\', \\'country\\': \\'United States of America\\', \\'lat\\': 34.0522, \\'lon\\': -118.2428, \\'tz_id\\': \\'America/Los_Angeles\\', \\'localtime_epoch\\': 1731756102, \\'localtime\\': \\'2024-11-16 03:21\\'}, \\'current\\': {\\'last_updated_epoch\\': 1731755700, \\'last_updated\\': \\'2024-11-16 03:15\\', \\'temp_c\\': 10.2, \\'temp_f\\': 50.4, \\'is_day\\': 0, \\'condition\\': {\\'text\\': \\'Clear\\', \\'icon\\': \\'//cdn.weatherapi.com/weather/64x64/night/113.png\\', \\'code\\': 1000}, \\'wind_mph\\': 7.4, \\'wind_kph\\': 11.9, \\'wind_degree\\': 344, \\'wind_dir\\': \\'NNW\\', \\'pressure_mb\\': 1013.0, \\'pressure_in\\': 29.9, \\'precip_mm\\': 0.0, \\'precip_in\\': 0.0, \\'humidity\\': 61, \\'cloud\\': 0, \\'feelslike_c\\': 8.6, \\'feelslike_f\\': 47.4, \\'windchill_c\\': 8.8, \\'windchill_f\\': 47.9, \\'heatindex_c\\': 9.8, \\'heatindex_f\\': 49.7, \\'dewpoint_c\\': 1.1, \\'dewpoint_f\\': 33.9, \\'vis_km\\': 16.0, \\'vis_miles\\': 9.0, \\'uv\\': 0.0, \\'gust_mph\\': 10.1, \\'gust_kph\\': 16.3}}\"}, {\\'url\\': \\'https://www.accuweather.com/en/us/los-angeles/90012/current-weather/347625\\', \\'content\\': \\'Current weather in Los Angeles, CA. Check current conditions in Los Angeles, CA with radar, hourly, and more.\\'}]', name='tavily_search_results_json', id='e666ec4c-6835-4d94-949f-cbb1c00b34c0', tool_call_id='call_Glcpm1hpVsMuedEKBG6vLlUB'), AIMessage(content='The current weather in Los Angeles is as follows:\\n- Temperature: 10.2°C (50.4°F)\\n- Condition: Clear\\n- Wind: 11.9 km/h NNW\\n- Pressure: 1013.0 mb\\n- Humidity: 61%\\n- Visibility: 16.0 km\\n\\nIf you need more detailed information, you can check [AccuWeather](https://www.accuweather.com/en/us/los-angeles/90012/current-weather/347625).', additional_kwargs={'refusal': None}, response_metadata={'token_usage': {'completion_tokens': 107, 'prompt_tokens': 656, 'total_tokens': 763, 'completion_tokens_details': {'audio_tokens': 0, 'reasoning_tokens': 0, 'accepted_prediction_tokens': 0, 'rejected_prediction_tokens': 0}, 'prompt_tokens_details': {'audio_tokens': 0, 'cached_tokens': 0}}, 'model_name': 'gpt-3.5-turbo-0125', 'system_fingerprint': None, 'finish_reason': 'stop', 'logprobs': None}, id='run-36d38192-3d90-473b-bfa1-731827e8567a-0', usage_metadata={'input_tokens': 656, 'output_tokens': 107, 'total_tokens': 763, 'input_token_details': {'audio': 0, 'cache_read': 0}, 'output_token_details': {'audio': 0, 'reasoning': 0}})]}\n",
      "{'messages': [AIMessage(content='The current weather in Los Angeles is as follows:\\n- Temperature: 10.2°C (50.4°F)\\n- Condition: Clear\\n- Wind: 11.9 km/h NNW\\n- Pressure: 1013.0 mb\\n- Humidity: 61%\\n- Visibility: 16.0 km\\n\\nIf you need more detailed information, you can check [AccuWeather](https://www.accuweather.com/en/us/los-angeles/90012/current-weather/347625).', additional_kwargs={'refusal': None}, response_metadata={'token_usage': {'completion_tokens': 107, 'prompt_tokens': 656, 'total_tokens': 763, 'completion_tokens_details': {'audio_tokens': 0, 'reasoning_tokens': 0, 'accepted_prediction_tokens': 0, 'rejected_prediction_tokens': 0}, 'prompt_tokens_details': {'audio_tokens': 0, 'cached_tokens': 0}}, 'model_name': 'gpt-3.5-turbo-0125', 'system_fingerprint': None, 'finish_reason': 'stop', 'logprobs': None}, id='run-36d38192-3d90-473b-bfa1-731827e8567a-0', usage_metadata={'input_tokens': 656, 'output_tokens': 107, 'total_tokens': 763, 'input_token_details': {'audio': 0, 'cache_read': 0}, 'output_token_details': {'audio': 0, 'reasoning': 0}})]}\n"
     ]
    }
   ],
   "source": [
    "for event in abot.graph.stream(None, branch_state):\n",
    "    for k, v in event.items():\n",
    "        if k != \"__end__\":\n",
    "            print(v)"
   ]
  },
  {
   "cell_type": "markdown",
   "metadata": {},
   "source": [
    "**Now it called `tavily api but it used accuweather as source of information` instead, due to the modification we did just before**"
   ]
  },
  {
   "cell_type": "markdown",
   "metadata": {},
   "source": [
    "##### **BONUS NOTE:** Add message to a state at any given point in time"
   ]
  },
  {
   "cell_type": "markdown",
   "metadata": {},
   "source": [
    "Imagine that instead of calling that tool we edited before (`{'name': 'tavily_search_results_json', 'args': {'query': 'current weather in LA, accuweather'}, 'id': 'call_Glcpm1hpVsMuedEKBG6vLlUB'`)\n",
    "\n",
    "We decide to mock out our own response and append that `message` to the corresponding state "
   ]
  },
  {
   "cell_type": "code",
   "execution_count": 117,
   "metadata": {},
   "outputs": [],
   "source": [
    "# to_replay"
   ]
  },
  {
   "cell_type": "code",
   "execution_count": 116,
   "metadata": {},
   "outputs": [
    {
     "data": {
      "text/plain": [
       "{'messages': [HumanMessage(content='Whats the weather in LA?', additional_kwargs={}, response_metadata={}, id='82ce5597-89d0-42ac-80f6-e45d2b0c5353'),\n",
       "  AIMessage(content='', additional_kwargs={'tool_calls': [{'id': 'call_Glcpm1hpVsMuedEKBG6vLlUB', 'function': {'arguments': '{\"query\":\"weather in Los Angeles\"}', 'name': 'tavily_search_results_json'}, 'type': 'function'}], 'refusal': None}, response_metadata={'token_usage': {'completion_tokens': 21, 'prompt_tokens': 152, 'total_tokens': 173, 'completion_tokens_details': {'audio_tokens': 0, 'reasoning_tokens': 0, 'accepted_prediction_tokens': 0, 'rejected_prediction_tokens': 0}, 'prompt_tokens_details': {'audio_tokens': 0, 'cached_tokens': 0}}, 'model_name': 'gpt-3.5-turbo-0125', 'system_fingerprint': None, 'finish_reason': 'tool_calls', 'logprobs': None}, id='run-4306fe76-b5bc-443c-a469-78d5fea6b099-0', tool_calls=[{'name': 'tavily_search_results_json', 'args': {'query': 'current weather in LA, accuweather'}, 'id': 'call_Glcpm1hpVsMuedEKBG6vLlUB'}], usage_metadata={'input_tokens': 152, 'output_tokens': 21, 'total_tokens': 173, 'input_token_details': {'audio': 0, 'cache_read': 0}, 'output_token_details': {'audio': 0, 'reasoning': 0}})]}"
      ]
     },
     "execution_count": 116,
     "metadata": {},
     "output_type": "execute_result"
    }
   ],
   "source": [
    "to_replay.values"
   ]
  },
  {
   "cell_type": "code",
   "execution_count": null,
   "metadata": {},
   "outputs": [],
   "source": [
    "#we access to the ID\n",
    "_id = to_replay.values['messages'][-1].tool_calls[0]['id']"
   ]
  },
  {
   "cell_type": "code",
   "execution_count": 118,
   "metadata": {},
   "outputs": [],
   "source": [
    "state_update = {\"messages\": [ToolMessage(\n",
    "    tool_call_id=_id,\n",
    "    name=\"tavily_search_results_json\",\n",
    "    content=\"54 degree celcius\",\n",
    ")]}\n",
    "\n",
    "#we pretend to have already \"called the function\" so we put this as response from the API"
   ]
  },
  {
   "cell_type": "code",
   "execution_count": null,
   "metadata": {},
   "outputs": [],
   "source": [
    "#since we're not just modifying now, we need to let the graph now that the action tavily call was already done\n",
    "\n",
    "#so the message we're adding is the tavily_response\n",
    "\n",
    "branch_and_add = abot.graph.update_state(\n",
    "    to_replay.config, \n",
    "    state_update, \n",
    "    as_node=\"action\") #with this new param\n"
   ]
  },
  {
   "cell_type": "markdown",
   "metadata": {},
   "source": [
    "In this way, the graph won't go to the `action` node, but instead the llm will already use this `state_update` content we wrote as the \"mock response from the api\""
   ]
  },
  {
   "cell_type": "code",
   "execution_count": 120,
   "metadata": {},
   "outputs": [
    {
     "name": "stdout",
     "output_type": "stream",
     "text": [
      "{'messages': [HumanMessage(content='Whats the weather in LA?', additional_kwargs={}, response_metadata={}, id='82ce5597-89d0-42ac-80f6-e45d2b0c5353'), AIMessage(content='', additional_kwargs={'tool_calls': [{'id': 'call_Glcpm1hpVsMuedEKBG6vLlUB', 'function': {'arguments': '{\"query\":\"weather in Los Angeles\"}', 'name': 'tavily_search_results_json'}, 'type': 'function'}], 'refusal': None}, response_metadata={'token_usage': {'completion_tokens': 21, 'prompt_tokens': 152, 'total_tokens': 173, 'completion_tokens_details': {'audio_tokens': 0, 'reasoning_tokens': 0, 'accepted_prediction_tokens': 0, 'rejected_prediction_tokens': 0}, 'prompt_tokens_details': {'audio_tokens': 0, 'cached_tokens': 0}}, 'model_name': 'gpt-3.5-turbo-0125', 'system_fingerprint': None, 'finish_reason': 'tool_calls', 'logprobs': None}, id='run-4306fe76-b5bc-443c-a469-78d5fea6b099-0', tool_calls=[{'name': 'tavily_search_results_json', 'args': {'query': 'weather in Los Angeles'}, 'id': 'call_Glcpm1hpVsMuedEKBG6vLlUB', 'type': 'tool_call'}], usage_metadata={'input_tokens': 152, 'output_tokens': 21, 'total_tokens': 173, 'input_token_details': {'audio': 0, 'cache_read': 0}, 'output_token_details': {'audio': 0, 'reasoning': 0}}), ToolMessage(content='54 degree celcius', name='tavily_search_results_json', id='e5d0ac4d-8bcb-40ef-8331-733cc732856a', tool_call_id='call_Glcpm1hpVsMuedEKBG6vLlUB'), AIMessage(content='The current weather in Los Angeles is 54 degrees Celsius.', additional_kwargs={'refusal': None}, response_metadata={'token_usage': {'completion_tokens': 13, 'prompt_tokens': 190, 'total_tokens': 203, 'completion_tokens_details': {'audio_tokens': 0, 'reasoning_tokens': 0, 'accepted_prediction_tokens': 0, 'rejected_prediction_tokens': 0}, 'prompt_tokens_details': {'audio_tokens': 0, 'cached_tokens': 0}}, 'model_name': 'gpt-3.5-turbo-0125', 'system_fingerprint': None, 'finish_reason': 'stop', 'logprobs': None}, id='run-925d7bd9-41fc-410a-8f6a-4278e93edad3-0', usage_metadata={'input_tokens': 190, 'output_tokens': 13, 'total_tokens': 203, 'input_token_details': {'audio': 0, 'cache_read': 0}, 'output_token_details': {'audio': 0, 'reasoning': 0}})]}\n",
      "{'messages': [AIMessage(content='The current weather in Los Angeles is 54 degrees Celsius.', additional_kwargs={'refusal': None}, response_metadata={'token_usage': {'completion_tokens': 13, 'prompt_tokens': 190, 'total_tokens': 203, 'completion_tokens_details': {'audio_tokens': 0, 'reasoning_tokens': 0, 'accepted_prediction_tokens': 0, 'rejected_prediction_tokens': 0}, 'prompt_tokens_details': {'audio_tokens': 0, 'cached_tokens': 0}}, 'model_name': 'gpt-3.5-turbo-0125', 'system_fingerprint': None, 'finish_reason': 'stop', 'logprobs': None}, id='run-925d7bd9-41fc-410a-8f6a-4278e93edad3-0', usage_metadata={'input_tokens': 190, 'output_tokens': 13, 'total_tokens': 203, 'input_token_details': {'audio': 0, 'cache_read': 0}, 'output_token_details': {'audio': 0, 'reasoning': 0}})]}\n"
     ]
    }
   ],
   "source": [
    "for event in abot.graph.stream(None, branch_and_add):\n",
    "    for k, v in event.items():\n",
    "        print(v)"
   ]
  },
  {
   "cell_type": "markdown",
   "metadata": {},
   "source": [
    "So we see how, it now just runs the llm with this \"mock response\" instead of calling actions"
   ]
  },
  {
   "cell_type": "markdown",
   "metadata": {},
   "source": []
  }
 ],
 "metadata": {
  "kernelspec": {
   "display_name": "agents_env",
   "language": "python",
   "name": "python3"
  },
  "language_info": {
   "codemirror_mode": {
    "name": "ipython",
    "version": 3
   },
   "file_extension": ".py",
   "mimetype": "text/x-python",
   "name": "python",
   "nbconvert_exporter": "python",
   "pygments_lexer": "ipython3",
   "version": "3.11.9"
  }
 },
 "nbformat": 4,
 "nbformat_minor": 2
}
